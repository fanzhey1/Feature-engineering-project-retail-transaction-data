{
 "cells": [
  {
   "cell_type": "markdown",
   "id": "6354b06e",
   "metadata": {},
   "source": [
    "# Part 3: Model performance\n",
    "A very common question in every machine learning problem is: how many data samples do we need to model the system behaviour adequately. Unfortunately, just like many other topics in machine learning, there is no straight answer. In many toy problems presented in textbooks, a classification problem is solved with only 50-100 data points. In real world problems, a classification problem may be very difficult even with millions of data points."
   ]
  },
  {
   "cell_type": "markdown",
   "id": "3b985eb3",
   "metadata": {},
   "source": [
    "## 1.1 Dataset size vs model performance\n",
    "\n",
    "Quantify the relationship between the dataset size and the model performance."
   ]
  },
  {
   "cell_type": "code",
   "execution_count": 1,
   "id": "507bded7",
   "metadata": {},
   "outputs": [],
   "source": [
    "import pandas as pd\n",
    "import numpy as np\n",
    "import sklearn\n",
    "from sklearn.model_selection import train_test_split\n",
    "from sklearn.metrics import roc_curve, auc\n",
    "from sklearn.tree import DecisionTreeClassifier, plot_tree\n",
    "import matplotlib\n",
    "import matplotlib.pyplot as plt"
   ]
  },
  {
   "cell_type": "markdown",
   "id": "bdcb40ab",
   "metadata": {},
   "source": [
    "### 1.1.1 Split the train/test sets with 9:1 ratio. "
   ]
  },
  {
   "cell_type": "code",
   "execution_count": 2,
   "id": "200b160a",
   "metadata": {},
   "outputs": [],
   "source": [
    "monthly_features_outputs = pd.read_excel('monthly_features_outputs.xlsx')"
   ]
  },
  {
   "cell_type": "code",
   "execution_count": 3,
   "id": "cf5ec9db",
   "metadata": {},
   "outputs": [],
   "source": [
    "monthly_features_outputs.drop(['Unnamed: 0', 'CLNT_NO', 'ME_DT'], axis = 1, inplace = True)"
   ]
  },
  {
   "cell_type": "code",
   "execution_count": 4,
   "id": "e9a92eb3",
   "metadata": {},
   "outputs": [],
   "source": [
    "X_mth = monthly_features_outputs.drop(['response'], axis = 1)\n",
    "y_mth = monthly_features_outputs['response']"
   ]
  },
  {
   "cell_type": "code",
   "execution_count": 5,
   "id": "c791e73b",
   "metadata": {},
   "outputs": [],
   "source": [
    "X_train_monthly, X_test_monthly, y_train_monthly, y_test_monthly = train_test_split(X_mth, y_mth, test_size=0.1, random_state=1147)"
   ]
  },
  {
   "cell_type": "code",
   "execution_count": 6,
   "id": "2c5efe8e",
   "metadata": {},
   "outputs": [],
   "source": [
    "X_train_monthly.fillna(0, inplace = True)\n",
    "X_test_monthly.fillna(0, inplace = True)"
   ]
  },
  {
   "cell_type": "markdown",
   "id": "cdd01260",
   "metadata": {},
   "source": [
    "### 1.1.2 Initialize and create a for loop in which you take N samples (e.g. 50), build a tree model with the N samples and evaluate the test set AUC. Repeat the sampling process 10 times and append the test set AUC. From this table, we can calculate the mean and standard deviation of the test AUC for N samples."
   ]
  },
  {
   "cell_type": "code",
   "execution_count": 7,
   "id": "534f4051",
   "metadata": {},
   "outputs": [],
   "source": [
    "auc_train           = []\n",
    "auc_test            = []\n",
    "iteration = range(10)\n",
    "for i in iteration:\n",
    "    # Define and fit\n",
    "    X_train_sample = X_train_monthly.sample(n = 50, random_state = 1146+i)\n",
    "    X_test_sample = X_test_monthly.sample(n = 50, random_state = 146*i)\n",
    "    y_train_sample = y_train_monthly.sample(n = 50, random_state = 1146+i)\n",
    "    y_test_sample = y_test_monthly.sample(n = 50, random_state = 146*i)\n",
    "    estimator = DecisionTreeClassifier(ccp_alpha = 0.004, class_weight='balanced', criterion = 'entropy', max_depth = 4, random_state=1147)\n",
    "    model_dt = estimator.fit(X_train_sample, y_train_sample)\n",
    "    # Score train and test set \n",
    "    scores_train = estimator.predict_proba(X_train_sample)[:,1] \n",
    "    scores_test  = estimator.predict_proba(X_test_sample)[:,1]  \n",
    "    # Predict the class of test set\n",
    "    y_test_predicted = estimator.predict(X_test_sample)\n",
    "    # ROC Calc Train set\n",
    "    fpr_train, tpr_train, _ = roc_curve(y_train_sample, scores_train)\n",
    "    # ROC Calc Test set\n",
    "    fpr_test, tpr_test, _ = roc_curve(y_test_sample, scores_test)\n",
    "    # Calculate the AUCs\n",
    "    auc_train.append(auc(fpr_train, tpr_train))\n",
    "    auc_test.append(auc(fpr_test, tpr_test))"
   ]
  },
  {
   "cell_type": "code",
   "execution_count": 8,
   "id": "be86cb10",
   "metadata": {},
   "outputs": [
    {
     "data": {
      "text/html": [
       "<div>\n",
       "<style scoped>\n",
       "    .dataframe tbody tr th:only-of-type {\n",
       "        vertical-align: middle;\n",
       "    }\n",
       "\n",
       "    .dataframe tbody tr th {\n",
       "        vertical-align: top;\n",
       "    }\n",
       "\n",
       "    .dataframe thead th {\n",
       "        text-align: right;\n",
       "    }\n",
       "</style>\n",
       "<table border=\"1\" class=\"dataframe\">\n",
       "  <thead>\n",
       "    <tr style=\"text-align: right;\">\n",
       "      <th>sample #</th>\n",
       "      <th>Test AUC</th>\n",
       "    </tr>\n",
       "  </thead>\n",
       "  <tbody>\n",
       "    <tr>\n",
       "      <th>1</th>\n",
       "      <td>0.469388</td>\n",
       "    </tr>\n",
       "    <tr>\n",
       "      <th>2</th>\n",
       "      <td>0.580000</td>\n",
       "    </tr>\n",
       "    <tr>\n",
       "      <th>3</th>\n",
       "      <td>0.528409</td>\n",
       "    </tr>\n",
       "    <tr>\n",
       "      <th>4</th>\n",
       "      <td>0.516304</td>\n",
       "    </tr>\n",
       "    <tr>\n",
       "      <th>5</th>\n",
       "      <td>0.477778</td>\n",
       "    </tr>\n",
       "    <tr>\n",
       "      <th>6</th>\n",
       "      <td>0.506645</td>\n",
       "    </tr>\n",
       "    <tr>\n",
       "      <th>7</th>\n",
       "      <td>0.644444</td>\n",
       "    </tr>\n",
       "    <tr>\n",
       "      <th>8</th>\n",
       "      <td>0.656146</td>\n",
       "    </tr>\n",
       "    <tr>\n",
       "      <th>9</th>\n",
       "      <td>0.570652</td>\n",
       "    </tr>\n",
       "    <tr>\n",
       "      <th>10</th>\n",
       "      <td>0.406250</td>\n",
       "    </tr>\n",
       "  </tbody>\n",
       "</table>\n",
       "</div>"
      ],
      "text/plain": [
       "sample #  Test AUC\n",
       "1         0.469388\n",
       "2         0.580000\n",
       "3         0.528409\n",
       "4         0.516304\n",
       "5         0.477778\n",
       "6         0.506645\n",
       "7         0.644444\n",
       "8         0.656146\n",
       "9         0.570652\n",
       "10        0.406250"
      ]
     },
     "execution_count": 8,
     "metadata": {},
     "output_type": "execute_result"
    }
   ],
   "source": [
    "performance_dictionary = {'AUC_TRAIN': auc_train,\n",
    "                          'Test AUC': auc_test}\n",
    "performance_df = pd.DataFrame(performance_dictionary)\n",
    "performance_df.index = range(1, 11)\n",
    "performance_df.columns.name = 'sample #'\n",
    "performance_df.drop('AUC_TRAIN', axis = 1, inplace = True)\n",
    "performance_df"
   ]
  },
  {
   "cell_type": "code",
   "execution_count": 9,
   "id": "5d431598",
   "metadata": {},
   "outputs": [
    {
     "data": {
      "text/plain": [
       "0.5356"
      ]
     },
     "execution_count": 9,
     "metadata": {},
     "output_type": "execute_result"
    }
   ],
   "source": [
    "mean_50 = round(performance_df['Test AUC'].mean(), 4)\n",
    "mean_50"
   ]
  },
  {
   "cell_type": "code",
   "execution_count": 10,
   "id": "1114f85f",
   "metadata": {},
   "outputs": [
    {
     "data": {
      "text/plain": [
       "0.0784"
      ]
     },
     "execution_count": 10,
     "metadata": {},
     "output_type": "execute_result"
    }
   ],
   "source": [
    "std_50 = round(performance_df['Test AUC'].std(), 4)\n",
    "std_50"
   ]
  },
  {
   "cell_type": "markdown",
   "id": "eab9e399",
   "metadata": {},
   "source": [
    "### 1.1.3 Repeat the procedure you performed in the previous step for different sample size N (e.g. 100, 500, 1000, 2000, 5000, 10000)."
   ]
  },
  {
   "cell_type": "code",
   "execution_count": 11,
   "id": "1504f261",
   "metadata": {},
   "outputs": [],
   "source": [
    "auc_train           = []\n",
    "auc_test            = []\n",
    "iteration = range(10)\n",
    "for i in iteration:\n",
    "    # Define and fit\n",
    "    X_train_sample = X_train_monthly.sample(n = 500, random_state = 1148+i)\n",
    "    X_test_sample = X_test_monthly.sample(n = 500, random_state = 148*i)\n",
    "    y_train_sample = y_train_monthly.sample(n = 500, random_state = 1148+i)\n",
    "    y_test_sample = y_test_monthly.sample(n = 500, random_state = 148*i)\n",
    "    estimator = DecisionTreeClassifier(ccp_alpha = 0.004, class_weight='balanced', criterion = 'entropy', max_depth = 4, random_state=1147)\n",
    "    model_dt = estimator.fit(X_train_sample, y_train_sample)\n",
    "    # Score train and test set \n",
    "    scores_train = estimator.predict_proba(X_train_sample)[:,1] \n",
    "    scores_test  = estimator.predict_proba(X_test_sample)[:,1]  \n",
    "    # Predict the class of test set\n",
    "    y_test_predicted = estimator.predict(X_test_sample)\n",
    "    # ROC Calc Train set\n",
    "    fpr_train, tpr_train, _ = roc_curve(y_train_sample, scores_train)\n",
    "    # ROC Calc Test set\n",
    "    fpr_test, tpr_test, _ = roc_curve(y_test_sample, scores_test)\n",
    "    # Calculate the AUCs\n",
    "    auc_train.append(auc(fpr_train, tpr_train))\n",
    "    auc_test.append(auc(fpr_test, tpr_test))"
   ]
  },
  {
   "cell_type": "code",
   "execution_count": 12,
   "id": "a870d253",
   "metadata": {},
   "outputs": [
    {
     "data": {
      "text/html": [
       "<div>\n",
       "<style scoped>\n",
       "    .dataframe tbody tr th:only-of-type {\n",
       "        vertical-align: middle;\n",
       "    }\n",
       "\n",
       "    .dataframe tbody tr th {\n",
       "        vertical-align: top;\n",
       "    }\n",
       "\n",
       "    .dataframe thead th {\n",
       "        text-align: right;\n",
       "    }\n",
       "</style>\n",
       "<table border=\"1\" class=\"dataframe\">\n",
       "  <thead>\n",
       "    <tr style=\"text-align: right;\">\n",
       "      <th>sample #</th>\n",
       "      <th>Test AUC</th>\n",
       "    </tr>\n",
       "  </thead>\n",
       "  <tbody>\n",
       "    <tr>\n",
       "      <th>1</th>\n",
       "      <td>0.531673</td>\n",
       "    </tr>\n",
       "    <tr>\n",
       "      <th>2</th>\n",
       "      <td>0.547844</td>\n",
       "    </tr>\n",
       "    <tr>\n",
       "      <th>3</th>\n",
       "      <td>0.619487</td>\n",
       "    </tr>\n",
       "    <tr>\n",
       "      <th>4</th>\n",
       "      <td>0.506000</td>\n",
       "    </tr>\n",
       "    <tr>\n",
       "      <th>5</th>\n",
       "      <td>0.431132</td>\n",
       "    </tr>\n",
       "    <tr>\n",
       "      <th>6</th>\n",
       "      <td>0.629489</td>\n",
       "    </tr>\n",
       "    <tr>\n",
       "      <th>7</th>\n",
       "      <td>0.557018</td>\n",
       "    </tr>\n",
       "    <tr>\n",
       "      <th>8</th>\n",
       "      <td>0.601164</td>\n",
       "    </tr>\n",
       "    <tr>\n",
       "      <th>9</th>\n",
       "      <td>0.517022</td>\n",
       "    </tr>\n",
       "    <tr>\n",
       "      <th>10</th>\n",
       "      <td>0.572650</td>\n",
       "    </tr>\n",
       "  </tbody>\n",
       "</table>\n",
       "</div>"
      ],
      "text/plain": [
       "sample #  Test AUC\n",
       "1         0.531673\n",
       "2         0.547844\n",
       "3         0.619487\n",
       "4         0.506000\n",
       "5         0.431132\n",
       "6         0.629489\n",
       "7         0.557018\n",
       "8         0.601164\n",
       "9         0.517022\n",
       "10        0.572650"
      ]
     },
     "execution_count": 12,
     "metadata": {},
     "output_type": "execute_result"
    }
   ],
   "source": [
    "performance_dictionary = {'AUC_TRAIN': auc_train,\n",
    "                          'Test AUC': auc_test}\n",
    "performance_df = pd.DataFrame(performance_dictionary)\n",
    "performance_df.index = range(1, 11)\n",
    "performance_df.columns.name = 'sample #'\n",
    "performance_df.drop('AUC_TRAIN', axis = 1, inplace = True)\n",
    "performance_df"
   ]
  },
  {
   "cell_type": "code",
   "execution_count": 13,
   "id": "1c888efa",
   "metadata": {},
   "outputs": [
    {
     "data": {
      "text/plain": [
       "0.5513"
      ]
     },
     "execution_count": 13,
     "metadata": {},
     "output_type": "execute_result"
    }
   ],
   "source": [
    "mean_500 = round(performance_df['Test AUC'].mean(), 4)\n",
    "mean_500"
   ]
  },
  {
   "cell_type": "code",
   "execution_count": 14,
   "id": "47dcb7a1",
   "metadata": {},
   "outputs": [
    {
     "data": {
      "text/plain": [
       "0.0594"
      ]
     },
     "execution_count": 14,
     "metadata": {},
     "output_type": "execute_result"
    }
   ],
   "source": [
    "std_500 = round(performance_df['Test AUC'].std(), 4)\n",
    "std_500"
   ]
  },
  {
   "cell_type": "code",
   "execution_count": 15,
   "id": "81dd1441",
   "metadata": {},
   "outputs": [],
   "source": [
    "auc_train           = []\n",
    "auc_test            = []\n",
    "iteration = range(10)\n",
    "for i in iteration:\n",
    "    # Define and fit\n",
    "    X_train_sample = X_train_monthly.sample(n = 1000, random_state = 1149+i)\n",
    "    X_test_sample = X_test_monthly.sample(n = 1000, random_state = 149*i)\n",
    "    y_train_sample = y_train_monthly.sample(n = 1000, random_state = 1149+i)\n",
    "    y_test_sample = y_test_monthly.sample(n = 1000, random_state = 149*i)\n",
    "    estimator = DecisionTreeClassifier(ccp_alpha = 0.004, class_weight='balanced', criterion = 'entropy', max_depth = 4, random_state=1147)\n",
    "    model_dt = estimator.fit(X_train_sample, y_train_sample)\n",
    "    # Score train and test set \n",
    "    scores_train = estimator.predict_proba(X_train_sample)[:,1] \n",
    "    scores_test  = estimator.predict_proba(X_test_sample)[:,1]  \n",
    "    # Predict the class of test set\n",
    "    y_test_predicted = estimator.predict(X_test_sample)\n",
    "    # ROC Calc Train set\n",
    "    fpr_train, tpr_train, _ = roc_curve(y_train_sample, scores_train)\n",
    "    # ROC Calc Test set\n",
    "    fpr_test, tpr_test, _ = roc_curve(y_test_sample, scores_test)\n",
    "    # Calculate the AUCs\n",
    "    auc_train.append(auc(fpr_train, tpr_train))\n",
    "    auc_test.append(auc(fpr_test, tpr_test))"
   ]
  },
  {
   "cell_type": "code",
   "execution_count": 16,
   "id": "4410abce",
   "metadata": {},
   "outputs": [
    {
     "data": {
      "text/html": [
       "<div>\n",
       "<style scoped>\n",
       "    .dataframe tbody tr th:only-of-type {\n",
       "        vertical-align: middle;\n",
       "    }\n",
       "\n",
       "    .dataframe tbody tr th {\n",
       "        vertical-align: top;\n",
       "    }\n",
       "\n",
       "    .dataframe thead th {\n",
       "        text-align: right;\n",
       "    }\n",
       "</style>\n",
       "<table border=\"1\" class=\"dataframe\">\n",
       "  <thead>\n",
       "    <tr style=\"text-align: right;\">\n",
       "      <th>sample #</th>\n",
       "      <th>Test AUC</th>\n",
       "    </tr>\n",
       "  </thead>\n",
       "  <tbody>\n",
       "    <tr>\n",
       "      <th>1</th>\n",
       "      <td>0.521742</td>\n",
       "    </tr>\n",
       "    <tr>\n",
       "      <th>2</th>\n",
       "      <td>0.607357</td>\n",
       "    </tr>\n",
       "    <tr>\n",
       "      <th>3</th>\n",
       "      <td>0.531933</td>\n",
       "    </tr>\n",
       "    <tr>\n",
       "      <th>4</th>\n",
       "      <td>0.504730</td>\n",
       "    </tr>\n",
       "    <tr>\n",
       "      <th>5</th>\n",
       "      <td>0.604311</td>\n",
       "    </tr>\n",
       "    <tr>\n",
       "      <th>6</th>\n",
       "      <td>0.515355</td>\n",
       "    </tr>\n",
       "    <tr>\n",
       "      <th>7</th>\n",
       "      <td>0.549978</td>\n",
       "    </tr>\n",
       "    <tr>\n",
       "      <th>8</th>\n",
       "      <td>0.548619</td>\n",
       "    </tr>\n",
       "    <tr>\n",
       "      <th>9</th>\n",
       "      <td>0.574150</td>\n",
       "    </tr>\n",
       "    <tr>\n",
       "      <th>10</th>\n",
       "      <td>0.522230</td>\n",
       "    </tr>\n",
       "  </tbody>\n",
       "</table>\n",
       "</div>"
      ],
      "text/plain": [
       "sample #  Test AUC\n",
       "1         0.521742\n",
       "2         0.607357\n",
       "3         0.531933\n",
       "4         0.504730\n",
       "5         0.604311\n",
       "6         0.515355\n",
       "7         0.549978\n",
       "8         0.548619\n",
       "9         0.574150\n",
       "10        0.522230"
      ]
     },
     "execution_count": 16,
     "metadata": {},
     "output_type": "execute_result"
    }
   ],
   "source": [
    "performance_dictionary = {'AUC_TRAIN': auc_train,\n",
    "                          'Test AUC': auc_test}\n",
    "performance_df = pd.DataFrame(performance_dictionary)\n",
    "performance_df.index = range(1, 11)\n",
    "performance_df.columns.name = 'sample #'\n",
    "performance_df.drop('AUC_TRAIN', axis = 1, inplace = True)\n",
    "performance_df"
   ]
  },
  {
   "cell_type": "code",
   "execution_count": 17,
   "id": "9715e6ff",
   "metadata": {},
   "outputs": [
    {
     "data": {
      "text/plain": [
       "0.548"
      ]
     },
     "execution_count": 17,
     "metadata": {},
     "output_type": "execute_result"
    }
   ],
   "source": [
    "mean_1000 = round(performance_df['Test AUC'].mean(), 4)\n",
    "mean_1000"
   ]
  },
  {
   "cell_type": "code",
   "execution_count": 18,
   "id": "518ca2bc",
   "metadata": {},
   "outputs": [
    {
     "data": {
      "text/plain": [
       "0.0364"
      ]
     },
     "execution_count": 18,
     "metadata": {},
     "output_type": "execute_result"
    }
   ],
   "source": [
    "std_1000 = round(performance_df['Test AUC'].std(), 4)\n",
    "std_1000"
   ]
  },
  {
   "cell_type": "code",
   "execution_count": 19,
   "id": "f9ca1b85",
   "metadata": {},
   "outputs": [],
   "source": [
    "auc_train           = []\n",
    "auc_test            = []\n",
    "iteration = range(10)\n",
    "for i in iteration:\n",
    "    # Define and fit\n",
    "    X_train_sample = X_train_monthly.sample(n = 2500, random_state = 1150+i)\n",
    "    X_test_sample = X_test_monthly.sample(n = 2500, random_state = 150*i)\n",
    "    y_train_sample = y_train_monthly.sample(n = 2500, random_state = 1150+i)\n",
    "    y_test_sample = y_test_monthly.sample(n = 2500, random_state = 150*i)\n",
    "    estimator = DecisionTreeClassifier(ccp_alpha = 0.004, class_weight='balanced', criterion = 'entropy', max_depth = 4, random_state=1147)\n",
    "    model_dt = estimator.fit(X_train_sample, y_train_sample)\n",
    "    # Score train and test set \n",
    "    scores_train = estimator.predict_proba(X_train_sample)[:,1] \n",
    "    scores_test  = estimator.predict_proba(X_test_sample)[:,1]  \n",
    "    # Predict the class of test set\n",
    "    y_test_predicted = estimator.predict(X_test_sample)\n",
    "    # ROC Calc Train set\n",
    "    fpr_train, tpr_train, _ = roc_curve(y_train_sample, scores_train)\n",
    "    # ROC Calc Test set\n",
    "    fpr_test, tpr_test, _ = roc_curve(y_test_sample, scores_test)\n",
    "    # Calculate the AUCs\n",
    "    auc_train.append(auc(fpr_train, tpr_train))\n",
    "    auc_test.append(auc(fpr_test, tpr_test))"
   ]
  },
  {
   "cell_type": "code",
   "execution_count": 20,
   "id": "8358c307",
   "metadata": {},
   "outputs": [
    {
     "data": {
      "text/html": [
       "<div>\n",
       "<style scoped>\n",
       "    .dataframe tbody tr th:only-of-type {\n",
       "        vertical-align: middle;\n",
       "    }\n",
       "\n",
       "    .dataframe tbody tr th {\n",
       "        vertical-align: top;\n",
       "    }\n",
       "\n",
       "    .dataframe thead th {\n",
       "        text-align: right;\n",
       "    }\n",
       "</style>\n",
       "<table border=\"1\" class=\"dataframe\">\n",
       "  <thead>\n",
       "    <tr style=\"text-align: right;\">\n",
       "      <th>sample #</th>\n",
       "      <th>Test AUC</th>\n",
       "    </tr>\n",
       "  </thead>\n",
       "  <tbody>\n",
       "    <tr>\n",
       "      <th>1</th>\n",
       "      <td>0.607254</td>\n",
       "    </tr>\n",
       "    <tr>\n",
       "      <th>2</th>\n",
       "      <td>0.597820</td>\n",
       "    </tr>\n",
       "    <tr>\n",
       "      <th>3</th>\n",
       "      <td>0.566937</td>\n",
       "    </tr>\n",
       "    <tr>\n",
       "      <th>4</th>\n",
       "      <td>0.590906</td>\n",
       "    </tr>\n",
       "    <tr>\n",
       "      <th>5</th>\n",
       "      <td>0.578700</td>\n",
       "    </tr>\n",
       "    <tr>\n",
       "      <th>6</th>\n",
       "      <td>0.535339</td>\n",
       "    </tr>\n",
       "    <tr>\n",
       "      <th>7</th>\n",
       "      <td>0.623721</td>\n",
       "    </tr>\n",
       "    <tr>\n",
       "      <th>8</th>\n",
       "      <td>0.597129</td>\n",
       "    </tr>\n",
       "    <tr>\n",
       "      <th>9</th>\n",
       "      <td>0.567232</td>\n",
       "    </tr>\n",
       "    <tr>\n",
       "      <th>10</th>\n",
       "      <td>0.614445</td>\n",
       "    </tr>\n",
       "  </tbody>\n",
       "</table>\n",
       "</div>"
      ],
      "text/plain": [
       "sample #  Test AUC\n",
       "1         0.607254\n",
       "2         0.597820\n",
       "3         0.566937\n",
       "4         0.590906\n",
       "5         0.578700\n",
       "6         0.535339\n",
       "7         0.623721\n",
       "8         0.597129\n",
       "9         0.567232\n",
       "10        0.614445"
      ]
     },
     "execution_count": 20,
     "metadata": {},
     "output_type": "execute_result"
    }
   ],
   "source": [
    "performance_dictionary = {'AUC_TRAIN': auc_train,\n",
    "                          'Test AUC': auc_test}\n",
    "performance_df = pd.DataFrame(performance_dictionary)\n",
    "performance_df.index = range(1, 11)\n",
    "performance_df.columns.name = 'sample #'\n",
    "performance_df.drop('AUC_TRAIN', axis = 1, inplace = True)\n",
    "performance_df"
   ]
  },
  {
   "cell_type": "code",
   "execution_count": 21,
   "id": "a75f48de",
   "metadata": {},
   "outputs": [
    {
     "data": {
      "text/plain": [
       "0.5879"
      ]
     },
     "execution_count": 21,
     "metadata": {},
     "output_type": "execute_result"
    }
   ],
   "source": [
    "mean_2500 = round(performance_df['Test AUC'].mean(), 4)\n",
    "mean_2500"
   ]
  },
  {
   "cell_type": "code",
   "execution_count": 22,
   "id": "53dbf3e3",
   "metadata": {},
   "outputs": [
    {
     "data": {
      "text/plain": [
       "0.0264"
      ]
     },
     "execution_count": 22,
     "metadata": {},
     "output_type": "execute_result"
    }
   ],
   "source": [
    "std_2500 = round(performance_df['Test AUC'].std(), 4)\n",
    "std_2500"
   ]
  },
  {
   "cell_type": "code",
   "execution_count": 23,
   "id": "5b297b71",
   "metadata": {},
   "outputs": [],
   "source": [
    "auc_train           = []\n",
    "auc_test            = []\n",
    "iteration = range(10)\n",
    "for i in iteration:\n",
    "    # Define and fit\n",
    "    X_train_sample = X_train_monthly.sample(n = 5000, random_state = 1151+i)\n",
    "    X_test_sample = X_test_monthly.sample(n = 5000, random_state = 151*i)\n",
    "    y_train_sample = y_train_monthly.sample(n = 5000, random_state = 1151+i)\n",
    "    y_test_sample = y_test_monthly.sample(n = 5000, random_state = 151*i)\n",
    "    estimator = DecisionTreeClassifier(ccp_alpha = 0.004, class_weight='balanced', criterion = 'entropy', max_depth = 4, random_state=1147)\n",
    "    model_dt = estimator.fit(X_train_sample, y_train_sample)\n",
    "    # Score train and test set \n",
    "    scores_train = estimator.predict_proba(X_train_sample)[:,1] \n",
    "    scores_test  = estimator.predict_proba(X_test_sample)[:,1]  \n",
    "    # Predict the class of test set\n",
    "    y_test_predicted = estimator.predict(X_test_sample)\n",
    "    # ROC Calc Train set\n",
    "    fpr_train, tpr_train, _ = roc_curve(y_train_sample, scores_train)\n",
    "    # ROC Calc Test set\n",
    "    fpr_test, tpr_test, _ = roc_curve(y_test_sample, scores_test)\n",
    "    # Calculate the AUCs\n",
    "    auc_train.append(auc(fpr_train, tpr_train))\n",
    "    auc_test.append(auc(fpr_test, tpr_test))"
   ]
  },
  {
   "cell_type": "code",
   "execution_count": 24,
   "id": "e8de6bf8",
   "metadata": {},
   "outputs": [
    {
     "data": {
      "text/html": [
       "<div>\n",
       "<style scoped>\n",
       "    .dataframe tbody tr th:only-of-type {\n",
       "        vertical-align: middle;\n",
       "    }\n",
       "\n",
       "    .dataframe tbody tr th {\n",
       "        vertical-align: top;\n",
       "    }\n",
       "\n",
       "    .dataframe thead th {\n",
       "        text-align: right;\n",
       "    }\n",
       "</style>\n",
       "<table border=\"1\" class=\"dataframe\">\n",
       "  <thead>\n",
       "    <tr style=\"text-align: right;\">\n",
       "      <th>sample #</th>\n",
       "      <th>AUC_TRAIN</th>\n",
       "      <th>Test AUC</th>\n",
       "    </tr>\n",
       "  </thead>\n",
       "  <tbody>\n",
       "    <tr>\n",
       "      <th>1</th>\n",
       "      <td>0.667811</td>\n",
       "      <td>0.624029</td>\n",
       "    </tr>\n",
       "    <tr>\n",
       "      <th>2</th>\n",
       "      <td>0.649168</td>\n",
       "      <td>0.585042</td>\n",
       "    </tr>\n",
       "    <tr>\n",
       "      <th>3</th>\n",
       "      <td>0.633624</td>\n",
       "      <td>0.612879</td>\n",
       "    </tr>\n",
       "    <tr>\n",
       "      <th>4</th>\n",
       "      <td>0.666720</td>\n",
       "      <td>0.599000</td>\n",
       "    </tr>\n",
       "    <tr>\n",
       "      <th>5</th>\n",
       "      <td>0.630119</td>\n",
       "      <td>0.636879</td>\n",
       "    </tr>\n",
       "    <tr>\n",
       "      <th>6</th>\n",
       "      <td>0.644055</td>\n",
       "      <td>0.603689</td>\n",
       "    </tr>\n",
       "    <tr>\n",
       "      <th>7</th>\n",
       "      <td>0.667950</td>\n",
       "      <td>0.608507</td>\n",
       "    </tr>\n",
       "    <tr>\n",
       "      <th>8</th>\n",
       "      <td>0.629913</td>\n",
       "      <td>0.609851</td>\n",
       "    </tr>\n",
       "    <tr>\n",
       "      <th>9</th>\n",
       "      <td>0.649168</td>\n",
       "      <td>0.612711</td>\n",
       "    </tr>\n",
       "    <tr>\n",
       "      <th>10</th>\n",
       "      <td>0.655885</td>\n",
       "      <td>0.624618</td>\n",
       "    </tr>\n",
       "  </tbody>\n",
       "</table>\n",
       "</div>"
      ],
      "text/plain": [
       "sample #  AUC_TRAIN  Test AUC\n",
       "1          0.667811  0.624029\n",
       "2          0.649168  0.585042\n",
       "3          0.633624  0.612879\n",
       "4          0.666720  0.599000\n",
       "5          0.630119  0.636879\n",
       "6          0.644055  0.603689\n",
       "7          0.667950  0.608507\n",
       "8          0.629913  0.609851\n",
       "9          0.649168  0.612711\n",
       "10         0.655885  0.624618"
      ]
     },
     "execution_count": 24,
     "metadata": {},
     "output_type": "execute_result"
    }
   ],
   "source": [
    "performance_dictionary = {'AUC_TRAIN': auc_train,\n",
    "                          'Test AUC': auc_test}\n",
    "performance_df = pd.DataFrame(performance_dictionary)\n",
    "performance_df.index = range(1, 11)\n",
    "performance_df.columns.name = 'sample #'\n",
    "#performance_df.drop('AUC_TRAIN', axis = 1, inplace = True)\n",
    "performance_df"
   ]
  },
  {
   "cell_type": "code",
   "execution_count": 25,
   "id": "ae66b4a9",
   "metadata": {},
   "outputs": [
    {
     "data": {
      "text/plain": [
       "0.6117"
      ]
     },
     "execution_count": 25,
     "metadata": {},
     "output_type": "execute_result"
    }
   ],
   "source": [
    "mean_5000 = round(performance_df['Test AUC'].mean(), 4)\n",
    "mean_5000"
   ]
  },
  {
   "cell_type": "code",
   "execution_count": 26,
   "id": "ff5e7e93",
   "metadata": {},
   "outputs": [
    {
     "data": {
      "text/plain": [
       "0.0145"
      ]
     },
     "execution_count": 26,
     "metadata": {},
     "output_type": "execute_result"
    }
   ],
   "source": [
    "std_5000 = round(performance_df['Test AUC'].std(), 4)\n",
    "std_5000"
   ]
  },
  {
   "cell_type": "code",
   "execution_count": 27,
   "id": "d191de59",
   "metadata": {},
   "outputs": [],
   "source": [
    "auc_train           = []\n",
    "auc_test            = []\n",
    "iteration = range(10)\n",
    "for i in iteration:\n",
    "    # Define and fit\n",
    "    X_train_sample = X_train_monthly.sample(n = 10000, random_state = 1152+i)\n",
    "    X_test_sample = X_test_monthly.sample(n = 10000, random_state = 152*i)\n",
    "    y_train_sample = y_train_monthly.sample(n = 10000, random_state = 1152+i)\n",
    "    y_test_sample = y_test_monthly.sample(n = 10000, random_state = 152*i)\n",
    "    estimator = DecisionTreeClassifier(ccp_alpha = 0.004, class_weight='balanced', criterion = 'entropy', max_depth = 4, random_state=1147)\n",
    "    model_dt = estimator.fit(X_train_sample, y_train_sample)\n",
    "    # Score train and test set \n",
    "    scores_train = estimator.predict_proba(X_train_sample)[:,1] \n",
    "    scores_test  = estimator.predict_proba(X_test_sample)[:,1]  \n",
    "    # Predict the class of test set\n",
    "    y_test_predicted = estimator.predict(X_test_sample)\n",
    "    # ROC Calc Train set\n",
    "    fpr_train, tpr_train, _ = roc_curve(y_train_sample, scores_train)\n",
    "    # ROC Calc Test set\n",
    "    fpr_test, tpr_test, _ = roc_curve(y_test_sample, scores_test)\n",
    "    # Calculate the AUCs\n",
    "    auc_train.append(auc(fpr_train, tpr_train))\n",
    "    auc_test.append(auc(fpr_test, tpr_test))"
   ]
  },
  {
   "cell_type": "code",
   "execution_count": 28,
   "id": "8c9bc82e",
   "metadata": {},
   "outputs": [
    {
     "data": {
      "text/html": [
       "<div>\n",
       "<style scoped>\n",
       "    .dataframe tbody tr th:only-of-type {\n",
       "        vertical-align: middle;\n",
       "    }\n",
       "\n",
       "    .dataframe tbody tr th {\n",
       "        vertical-align: top;\n",
       "    }\n",
       "\n",
       "    .dataframe thead th {\n",
       "        text-align: right;\n",
       "    }\n",
       "</style>\n",
       "<table border=\"1\" class=\"dataframe\">\n",
       "  <thead>\n",
       "    <tr style=\"text-align: right;\">\n",
       "      <th>sample #</th>\n",
       "      <th>Test AUC</th>\n",
       "    </tr>\n",
       "  </thead>\n",
       "  <tbody>\n",
       "    <tr>\n",
       "      <th>1</th>\n",
       "      <td>0.610537</td>\n",
       "    </tr>\n",
       "    <tr>\n",
       "      <th>2</th>\n",
       "      <td>0.619416</td>\n",
       "    </tr>\n",
       "    <tr>\n",
       "      <th>3</th>\n",
       "      <td>0.623628</td>\n",
       "    </tr>\n",
       "    <tr>\n",
       "      <th>4</th>\n",
       "      <td>0.615405</td>\n",
       "    </tr>\n",
       "    <tr>\n",
       "      <th>5</th>\n",
       "      <td>0.617499</td>\n",
       "    </tr>\n",
       "    <tr>\n",
       "      <th>6</th>\n",
       "      <td>0.625573</td>\n",
       "    </tr>\n",
       "    <tr>\n",
       "      <th>7</th>\n",
       "      <td>0.600059</td>\n",
       "    </tr>\n",
       "    <tr>\n",
       "      <th>8</th>\n",
       "      <td>0.619184</td>\n",
       "    </tr>\n",
       "    <tr>\n",
       "      <th>9</th>\n",
       "      <td>0.612909</td>\n",
       "    </tr>\n",
       "    <tr>\n",
       "      <th>10</th>\n",
       "      <td>0.599962</td>\n",
       "    </tr>\n",
       "  </tbody>\n",
       "</table>\n",
       "</div>"
      ],
      "text/plain": [
       "sample #  Test AUC\n",
       "1         0.610537\n",
       "2         0.619416\n",
       "3         0.623628\n",
       "4         0.615405\n",
       "5         0.617499\n",
       "6         0.625573\n",
       "7         0.600059\n",
       "8         0.619184\n",
       "9         0.612909\n",
       "10        0.599962"
      ]
     },
     "execution_count": 28,
     "metadata": {},
     "output_type": "execute_result"
    }
   ],
   "source": [
    "performance_dictionary = {'AUC_TRAIN': auc_train,\n",
    "                          'Test AUC': auc_test}\n",
    "performance_df = pd.DataFrame(performance_dictionary)\n",
    "performance_df.index = range(1, 11)\n",
    "performance_df.columns.name = 'sample #'\n",
    "performance_df.drop('AUC_TRAIN', axis = 1, inplace = True)\n",
    "performance_df"
   ]
  },
  {
   "cell_type": "code",
   "execution_count": 29,
   "id": "f6fe22ac",
   "metadata": {},
   "outputs": [
    {
     "data": {
      "text/plain": [
       "0.6144"
      ]
     },
     "execution_count": 29,
     "metadata": {},
     "output_type": "execute_result"
    }
   ],
   "source": [
    "mean_10000 = round(performance_df['Test AUC'].mean(), 4)\n",
    "mean_10000"
   ]
  },
  {
   "cell_type": "code",
   "execution_count": 30,
   "id": "e14ababf",
   "metadata": {},
   "outputs": [
    {
     "data": {
      "text/plain": [
       "0.0088"
      ]
     },
     "execution_count": 30,
     "metadata": {},
     "output_type": "execute_result"
    }
   ],
   "source": [
    "std_10000 = round(performance_df['Test AUC'].std(), 4)\n",
    "std_10000"
   ]
  },
  {
   "cell_type": "code",
   "execution_count": 31,
   "id": "54c413ef",
   "metadata": {},
   "outputs": [],
   "source": [
    "auc_train           = []\n",
    "auc_test            = []\n",
    "iteration = range(10)\n",
    "for i in iteration:\n",
    "    # Define and fit\n",
    "    X_train_sample = X_train_monthly.sample(n = 30000, random_state = 1153+i)\n",
    "    X_test_sample = X_test_monthly.sample(n = 30000, random_state = 153*i)\n",
    "    y_train_sample = y_train_monthly.sample(n = 30000, random_state = 1153+i)\n",
    "    y_test_sample = y_test_monthly.sample(n = 30000, random_state = 153*i)\n",
    "    estimator = DecisionTreeClassifier(ccp_alpha = 0.004, class_weight='balanced', criterion = 'entropy', max_depth = 4, random_state=1147)\n",
    "    model_dt = estimator.fit(X_train_sample, y_train_sample)\n",
    "    # Score train and test set \n",
    "    scores_train = estimator.predict_proba(X_train_sample)[:,1] \n",
    "    scores_test  = estimator.predict_proba(X_test_sample)[:,1]  \n",
    "    # Predict the class of test set\n",
    "    y_test_predicted = estimator.predict(X_test_sample)\n",
    "    # ROC Calc Train set\n",
    "    fpr_train, tpr_train, _ = roc_curve(y_train_sample, scores_train)\n",
    "    # ROC Calc Test set\n",
    "    fpr_test, tpr_test, _ = roc_curve(y_test_sample, scores_test)\n",
    "    # Calculate the AUCs\n",
    "    auc_train.append(auc(fpr_train, tpr_train))\n",
    "    auc_test.append(auc(fpr_test, tpr_test))"
   ]
  },
  {
   "cell_type": "code",
   "execution_count": 32,
   "id": "ca77fe01",
   "metadata": {},
   "outputs": [
    {
     "data": {
      "text/html": [
       "<div>\n",
       "<style scoped>\n",
       "    .dataframe tbody tr th:only-of-type {\n",
       "        vertical-align: middle;\n",
       "    }\n",
       "\n",
       "    .dataframe tbody tr th {\n",
       "        vertical-align: top;\n",
       "    }\n",
       "\n",
       "    .dataframe thead th {\n",
       "        text-align: right;\n",
       "    }\n",
       "</style>\n",
       "<table border=\"1\" class=\"dataframe\">\n",
       "  <thead>\n",
       "    <tr style=\"text-align: right;\">\n",
       "      <th>sample #</th>\n",
       "      <th>Test AUC</th>\n",
       "    </tr>\n",
       "  </thead>\n",
       "  <tbody>\n",
       "    <tr>\n",
       "      <th>1</th>\n",
       "      <td>0.620290</td>\n",
       "    </tr>\n",
       "    <tr>\n",
       "      <th>2</th>\n",
       "      <td>0.620516</td>\n",
       "    </tr>\n",
       "    <tr>\n",
       "      <th>3</th>\n",
       "      <td>0.627488</td>\n",
       "    </tr>\n",
       "    <tr>\n",
       "      <th>4</th>\n",
       "      <td>0.620059</td>\n",
       "    </tr>\n",
       "    <tr>\n",
       "      <th>5</th>\n",
       "      <td>0.619091</td>\n",
       "    </tr>\n",
       "    <tr>\n",
       "      <th>6</th>\n",
       "      <td>0.624063</td>\n",
       "    </tr>\n",
       "    <tr>\n",
       "      <th>7</th>\n",
       "      <td>0.604286</td>\n",
       "    </tr>\n",
       "    <tr>\n",
       "      <th>8</th>\n",
       "      <td>0.621713</td>\n",
       "    </tr>\n",
       "    <tr>\n",
       "      <th>9</th>\n",
       "      <td>0.625755</td>\n",
       "    </tr>\n",
       "    <tr>\n",
       "      <th>10</th>\n",
       "      <td>0.611939</td>\n",
       "    </tr>\n",
       "  </tbody>\n",
       "</table>\n",
       "</div>"
      ],
      "text/plain": [
       "sample #  Test AUC\n",
       "1         0.620290\n",
       "2         0.620516\n",
       "3         0.627488\n",
       "4         0.620059\n",
       "5         0.619091\n",
       "6         0.624063\n",
       "7         0.604286\n",
       "8         0.621713\n",
       "9         0.625755\n",
       "10        0.611939"
      ]
     },
     "execution_count": 32,
     "metadata": {},
     "output_type": "execute_result"
    }
   ],
   "source": [
    "performance_dictionary = {'AUC_TRAIN': auc_train,\n",
    "                          'Test AUC': auc_test}\n",
    "performance_df = pd.DataFrame(performance_dictionary)\n",
    "performance_df.index = range(1, 11)\n",
    "performance_df.columns.name = 'sample #'\n",
    "performance_df.drop('AUC_TRAIN', axis = 1, inplace = True)\n",
    "performance_df"
   ]
  },
  {
   "cell_type": "code",
   "execution_count": 33,
   "id": "3c6a0bf7",
   "metadata": {},
   "outputs": [
    {
     "data": {
      "text/plain": [
       "0.6195"
      ]
     },
     "execution_count": 33,
     "metadata": {},
     "output_type": "execute_result"
    }
   ],
   "source": [
    "mean_30000 = round(performance_df['Test AUC'].mean(), 4)\n",
    "mean_30000"
   ]
  },
  {
   "cell_type": "code",
   "execution_count": 34,
   "id": "377f2d01",
   "metadata": {},
   "outputs": [
    {
     "data": {
      "text/plain": [
       "0.0068"
      ]
     },
     "execution_count": 34,
     "metadata": {},
     "output_type": "execute_result"
    }
   ],
   "source": [
    "std_30000 = round(performance_df['Test AUC'].std(), 4)\n",
    "std_30000"
   ]
  },
  {
   "cell_type": "markdown",
   "id": "fb964425",
   "metadata": {},
   "source": [
    "### 1.1.4 Build a table that contains the values of: Sample size N, Test AUC mean, Test AUC standard deviation."
   ]
  },
  {
   "cell_type": "code",
   "execution_count": 35,
   "id": "7bba2d8e",
   "metadata": {},
   "outputs": [],
   "source": [
    "table = pd.DataFrame(data = {'Sample size N': [50, 500, 1000, 2500, 5000, 10000, 30000],\n",
    "                             'Test AUC mean': [mean_50, mean_500, mean_1000, mean_2500, mean_5000, mean_10000, mean_30000],\n",
    "                             'Test AUC standard deviation': [std_50, std_500, std_1000, std_2500, std_5000, std_10000, std_30000],\n",
    "                            })"
   ]
  },
  {
   "cell_type": "code",
   "execution_count": 36,
   "id": "3e0e81d8",
   "metadata": {},
   "outputs": [
    {
     "data": {
      "text/html": [
       "<div>\n",
       "<style scoped>\n",
       "    .dataframe tbody tr th:only-of-type {\n",
       "        vertical-align: middle;\n",
       "    }\n",
       "\n",
       "    .dataframe tbody tr th {\n",
       "        vertical-align: top;\n",
       "    }\n",
       "\n",
       "    .dataframe thead th {\n",
       "        text-align: right;\n",
       "    }\n",
       "</style>\n",
       "<table border=\"1\" class=\"dataframe\">\n",
       "  <thead>\n",
       "    <tr style=\"text-align: right;\">\n",
       "      <th>Sample size N</th>\n",
       "      <th>Test AUC mean</th>\n",
       "      <th>Test AUC standard deviation</th>\n",
       "    </tr>\n",
       "  </thead>\n",
       "  <tbody>\n",
       "    <tr>\n",
       "      <th>50</th>\n",
       "      <td>0.5356</td>\n",
       "      <td>0.0784</td>\n",
       "    </tr>\n",
       "    <tr>\n",
       "      <th>500</th>\n",
       "      <td>0.5513</td>\n",
       "      <td>0.0594</td>\n",
       "    </tr>\n",
       "    <tr>\n",
       "      <th>1000</th>\n",
       "      <td>0.5480</td>\n",
       "      <td>0.0364</td>\n",
       "    </tr>\n",
       "    <tr>\n",
       "      <th>2500</th>\n",
       "      <td>0.5879</td>\n",
       "      <td>0.0264</td>\n",
       "    </tr>\n",
       "    <tr>\n",
       "      <th>5000</th>\n",
       "      <td>0.6117</td>\n",
       "      <td>0.0145</td>\n",
       "    </tr>\n",
       "    <tr>\n",
       "      <th>10000</th>\n",
       "      <td>0.6144</td>\n",
       "      <td>0.0088</td>\n",
       "    </tr>\n",
       "    <tr>\n",
       "      <th>30000</th>\n",
       "      <td>0.6195</td>\n",
       "      <td>0.0068</td>\n",
       "    </tr>\n",
       "  </tbody>\n",
       "</table>\n",
       "</div>"
      ],
      "text/plain": [
       "Sample size N  Test AUC mean  Test AUC standard deviation\n",
       "50                    0.5356                       0.0784\n",
       "500                   0.5513                       0.0594\n",
       "1000                  0.5480                       0.0364\n",
       "2500                  0.5879                       0.0264\n",
       "5000                  0.6117                       0.0145\n",
       "10000                 0.6144                       0.0088\n",
       "30000                 0.6195                       0.0068"
      ]
     },
     "execution_count": 36,
     "metadata": {},
     "output_type": "execute_result"
    }
   ],
   "source": [
    "table.index = table['Sample size N']\n",
    "table.drop('Sample size N', axis = 1, inplace = True)\n",
    "table.index.name = None\n",
    "table.columns.name = 'Sample size N'\n",
    "table"
   ]
  },
  {
   "cell_type": "markdown",
   "id": "e19d4477",
   "metadata": {},
   "source": [
    "### 1.1.5 Using the matplotlib function errorbar, plot the model performance captured in the test AUC mean and standard deviation as a function of the sample size."
   ]
  },
  {
   "cell_type": "code",
   "execution_count": 37,
   "id": "243566f8",
   "metadata": {},
   "outputs": [
    {
     "data": {
      "text/plain": [
       "Text(0, 0.5, 'Test AUC mean')"
      ]
     },
     "execution_count": 37,
     "metadata": {},
     "output_type": "execute_result"
    },
    {
     "data": {
      "image/png": "[encoded data removed]",
      "text/plain": [
       "<Figure size 432x288 with 1 Axes>"
      ]
     },
     "metadata": {
      "needs_background": "light"
     },
     "output_type": "display_data"
    }
   ],
   "source": [
    "plt.errorbar(x = table.index, y = table['Test AUC mean'], yerr = table['Test AUC standard deviation'], fmt='-o')\n",
    "plt.title('Model performance captured in the test AUC mean and standard deviation')\n",
    "plt.xlabel('Sample size N')\n",
    "plt.ylabel('Test AUC mean')\n",
    "plt.show()"
   ]
  },
  {
   "cell_type": "markdown",
   "id": "260184bf",
   "metadata": {},
   "source": [
    "#### By the plot, we see the increase rate of mean of test AUC starts to decrease after n=5000, so n=5000 is probably the \"very sufficient\" (i.e. appropoiate) sample size one could use. In terms of the minimum number of samples needed to model the behaviour adequately, in my personal opinion, n=2500 is enough."
   ]
  }
 ],
 "metadata": {
  "kernelspec": {
   "display_name": "Python 3 (ipykernel)",
   "language": "python",
   "name": "python3"
  },
  "language_info": {
   "codemirror_mode": {
    "name": "ipython",
    "version": 3
   },
   "file_extension": ".py",
   "mimetype": "text/x-python",
   "name": "python",
   "nbconvert_exporter": "python",
   "pygments_lexer": "ipython3",
   "version": "3.8.2"
  }
 },
 "nbformat": 4,
 "nbformat_minor": 5
}
