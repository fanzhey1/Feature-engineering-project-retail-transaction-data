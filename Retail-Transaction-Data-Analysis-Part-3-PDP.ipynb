{
 "cells": [
  {
   "cell_type": "markdown",
   "id": "9439e805",
   "metadata": {},
   "source": [
    "# Part 3\n",
    "\n",
    "## Generate the partial dependency plots for the top 5 features in your best Random Forest model from the previous assignment. Use the population distribution (%) as the primary y-axis and the response rate (%) as the secondary y-axis."
   ]
  },
  {
   "cell_type": "code",
   "execution_count": 1,
   "id": "8a8e62f5",
   "metadata": {},
   "outputs": [],
   "source": [
    "import pandas as pd\n",
    "import numpy as np\n",
    "import matplotlib.pyplot as plt\n",
    "import seaborn as sns\n",
    "from sklearn.ensemble import RandomForestClassifier\n",
    "from sklearn.preprocessing import StandardScaler\n",
    "from sklearn.model_selection import train_test_split"
   ]
  },
  {
   "cell_type": "markdown",
   "id": "9cb1341b",
   "metadata": {},
   "source": [
    "#### I used annual feature because it has better precision, training set AUC, and test set AUC on random forest algorithm."
   ]
  },
  {
   "cell_type": "code",
   "execution_count": 2,
   "id": "fbaa867f",
   "metadata": {},
   "outputs": [],
   "source": [
    "annual_features_outputs = pd.read_excel('annual_features_outputs.xlsx')"
   ]
  },
  {
   "cell_type": "code",
   "execution_count": 3,
   "id": "d7816fdc",
   "metadata": {},
   "outputs": [],
   "source": [
    "X_ann = annual_features_outputs.drop(['response', 'Unnamed: 0', 'customer_id'], axis = 1)\n",
    "y_ann = annual_features_outputs['response']"
   ]
  },
  {
   "cell_type": "code",
   "execution_count": 5,
   "id": "adf17bb2",
   "metadata": {},
   "outputs": [],
   "source": [
    "X_train_annual, X_test_annual, y_train_annual, y_test_annual = train_test_split(X_ann, y_ann, test_size=2/3, random_state=1148)"
   ]
  },
  {
   "cell_type": "code",
   "execution_count": 6,
   "id": "580abcf5",
   "metadata": {},
   "outputs": [],
   "source": [
    "scaler = StandardScaler()\n",
    "X_train_annual_scaled = scaler.fit_transform(X_train_annual)"
   ]
  },
  {
   "cell_type": "code",
   "execution_count": 7,
   "id": "e34785c2",
   "metadata": {},
   "outputs": [],
   "source": [
    "# The best model below is created as a result of fine-tuning previously.\n",
    "estimator     = RandomForestClassifier(random_state=1147, n_estimators = 200, max_depth = 6, class_weight = 'balanced')\n",
    "rf_best_model = estimator.fit(X_train_annual_scaled, y_train_annual)"
   ]
  },
  {
   "cell_type": "code",
   "execution_count": 8,
   "id": "7a824b7e",
   "metadata": {},
   "outputs": [
    {
     "data": {
      "text/plain": [
       "array([0.00944195, 0.01429668, 0.02764468, 0.03351661, 0.01359439,\n",
       "       0.01075468, 0.01470861, 0.02677851, 0.04079541, 0.01234255,\n",
       "       0.01088713, 0.01679151, 0.02598346, 0.02934851, 0.01557092,\n",
       "       0.00928796, 0.01598971, 0.01727592, 0.03107654, 0.00324984,\n",
       "       0.00787515, 0.01425055, 0.01794422, 0.02227436, 0.00280438,\n",
       "       0.01357859, 0.01214238, 0.07893624, 0.11215667, 0.01152994,\n",
       "       0.00880907, 0.01323405, 0.01499966, 0.02740135, 0.00442312,\n",
       "       0.00497251, 0.00593609, 0.03292168, 0.08448277, 0.01051444,\n",
       "       0.00154629, 0.00207994, 0.00195328, 0.0020376 , 0.00211573,\n",
       "       0.00106552, 0.00149952, 0.00110264, 0.00268547, 0.00259921,\n",
       "       0.00258016, 0.00351694, 0.00452205, 0.00239686, 0.00248852,\n",
       "       0.00574202, 0.00367942, 0.00421682, 0.00708552, 0.00258662,\n",
       "       0.00298885, 0.00396031, 0.00572111, 0.00410596, 0.01714795,\n",
       "       0.00583507, 0.00412956, 0.00757381, 0.00071445, 0.00278122,\n",
       "       0.00058484, 0.00080114, 0.00349902, 0.00055851, 0.0015753 ])"
      ]
     },
     "execution_count": 8,
     "metadata": {},
     "output_type": "execute_result"
    }
   ],
   "source": [
    "importances = rf_best_model.feature_importances_\n",
    "importances"
   ]
  },
  {
   "cell_type": "code",
   "execution_count": 9,
   "id": "0168bb8c",
   "metadata": {},
   "outputs": [
    {
     "data": {
      "text/plain": [
       "array([ 3,  8, 27, 38, 28])"
      ]
     },
     "execution_count": 9,
     "metadata": {},
     "output_type": "execute_result"
    }
   ],
   "source": [
    "# Get top 5 features' indices.\n",
    "np.argsort(importances)[-5:]"
   ]
  },
  {
   "cell_type": "code",
   "execution_count": 10,
   "id": "4a735011",
   "metadata": {},
   "outputs": [
    {
     "name": "stdout",
     "output_type": "stream",
     "text": [
      " ann_txn_amt_ave_2015 \n",
      " ann_txn_amt_max_2015 \n",
      " ann_txn_amt_sum_2014 \n",
      " ann_txn_cnt_2015 \n",
      " ann_txn_amt_sum_2015\n"
     ]
    }
   ],
   "source": [
    "# Get top 5 features' names.\n",
    "feature1 = X_train_annual.iloc[:, 1:].columns[3]\n",
    "feature2 = X_train_annual.iloc[:, 1:].columns[8]\n",
    "feature3 = X_train_annual.iloc[:, 1:].columns[27]\n",
    "feature4 = X_train_annual.iloc[:, 1:].columns[38]\n",
    "feature5 = X_train_annual.iloc[:, 1:].columns[28]\n",
    "\n",
    "print('', feature1, '\\n', feature2, '\\n', feature3, '\\n', feature4, '\\n', feature5)"
   ]
  },
  {
   "cell_type": "markdown",
   "id": "37ca554b",
   "metadata": {},
   "source": [
    "## Feature 1"
   ]
  },
  {
   "cell_type": "code",
   "execution_count": 11,
   "id": "0f4684f6",
   "metadata": {},
   "outputs": [
    {
     "data": {
      "text/html": [
       "<div>\n",
       "<style scoped>\n",
       "    .dataframe tbody tr th:only-of-type {\n",
       "        vertical-align: middle;\n",
       "    }\n",
       "\n",
       "    .dataframe tbody tr th {\n",
       "        vertical-align: top;\n",
       "    }\n",
       "\n",
       "    .dataframe thead th {\n",
       "        text-align: right;\n",
       "    }\n",
       "</style>\n",
       "<table border=\"1\" class=\"dataframe\">\n",
       "  <thead>\n",
       "    <tr style=\"text-align: right;\">\n",
       "      <th></th>\n",
       "      <th>ann_txn_amt_ave_2015</th>\n",
       "      <th>response</th>\n",
       "    </tr>\n",
       "  </thead>\n",
       "  <tbody>\n",
       "    <tr>\n",
       "      <th>count</th>\n",
       "      <td>6884.000000</td>\n",
       "      <td>6884.000000</td>\n",
       "    </tr>\n",
       "    <tr>\n",
       "      <th>mean</th>\n",
       "      <td>39.474486</td>\n",
       "      <td>0.093986</td>\n",
       "    </tr>\n",
       "    <tr>\n",
       "      <th>std</th>\n",
       "      <td>35.415586</td>\n",
       "      <td>0.291831</td>\n",
       "    </tr>\n",
       "    <tr>\n",
       "      <th>min</th>\n",
       "      <td>0.000000</td>\n",
       "      <td>0.000000</td>\n",
       "    </tr>\n",
       "    <tr>\n",
       "      <th>25%</th>\n",
       "      <td>0.000000</td>\n",
       "      <td>0.000000</td>\n",
       "    </tr>\n",
       "    <tr>\n",
       "      <th>50%</th>\n",
       "      <td>44.000000</td>\n",
       "      <td>0.000000</td>\n",
       "    </tr>\n",
       "    <tr>\n",
       "      <th>75%</th>\n",
       "      <td>70.500000</td>\n",
       "      <td>0.000000</td>\n",
       "    </tr>\n",
       "    <tr>\n",
       "      <th>max</th>\n",
       "      <td>105.000000</td>\n",
       "      <td>1.000000</td>\n",
       "    </tr>\n",
       "  </tbody>\n",
       "</table>\n",
       "</div>"
      ],
      "text/plain": [
       "       ann_txn_amt_ave_2015     response\n",
       "count           6884.000000  6884.000000\n",
       "mean              39.474486     0.093986\n",
       "std               35.415586     0.291831\n",
       "min                0.000000     0.000000\n",
       "25%                0.000000     0.000000\n",
       "50%               44.000000     0.000000\n",
       "75%               70.500000     0.000000\n",
       "max              105.000000     1.000000"
      ]
     },
     "execution_count": 11,
     "metadata": {},
     "output_type": "execute_result"
    }
   ],
   "source": [
    "# Select the first feature along with the response to form a dataframe.\n",
    "feature1_df = annual_features_outputs[[feature1, 'response']].sort_values(feature1, ascending = True)\n",
    "\n",
    "# Explore the statistics of the dataframe.\n",
    "feature1_df.describe()"
   ]
  },
  {
   "cell_type": "code",
   "execution_count": 12,
   "id": "8b714053",
   "metadata": {},
   "outputs": [
    {
     "data": {
      "text/plain": [
       "Text(0.5, 1.0, 'Histogram of ann_txn_amt_ave_2015 distribution')"
      ]
     },
     "execution_count": 12,
     "metadata": {},
     "output_type": "execute_result"
    },
    {
     "data": {
      "image/png": "[encoded data removed]",
      "text/plain": [
       "<Figure size 720x576 with 1 Axes>"
      ]
     },
     "metadata": {
      "needs_background": "light"
     },
     "output_type": "display_data"
    }
   ],
   "source": [
    "# Plot the histogram to see the distribution of this feature's values.\n",
    "fig = plt.figure(figsize = (10, 8))\n",
    "plt.hist(feature1_df.iloc[:, 0])\n",
    "plt.xlabel(feature1)\n",
    "plt.ylabel('Counts')\n",
    "plt.title('Histogram of ' + feature1 + ' distribution')"
   ]
  },
  {
   "cell_type": "markdown",
   "id": "4045f17d",
   "metadata": {},
   "source": [
    "### Explore the count of each range (personal choice)."
   ]
  },
  {
   "cell_type": "code",
   "execution_count": 13,
   "id": "c0bdf4e2",
   "metadata": {},
   "outputs": [
    {
     "data": {
      "text/plain": [
       "(2659, 2)"
      ]
     },
     "execution_count": 13,
     "metadata": {},
     "output_type": "execute_result"
    }
   ],
   "source": [
    "feature1_df.loc[feature1_df[feature1] == 0].shape"
   ]
  },
  {
   "cell_type": "code",
   "execution_count": 14,
   "id": "34ffc9bb",
   "metadata": {},
   "outputs": [
    {
     "data": {
      "text/plain": [
       "(3, 2)"
      ]
     },
     "execution_count": 14,
     "metadata": {},
     "output_type": "execute_result"
    }
   ],
   "source": [
    "feature1_df.loc[(feature1_df[feature1] > 0) & (feature1_df[feature1] <= 10)].shape"
   ]
  },
  {
   "cell_type": "code",
   "execution_count": 15,
   "id": "9b48056b",
   "metadata": {},
   "outputs": [
    {
     "data": {
      "text/plain": [
       "(116, 2)"
      ]
     },
     "execution_count": 15,
     "metadata": {},
     "output_type": "execute_result"
    }
   ],
   "source": [
    "feature1_df.loc[(feature1_df[feature1] > 10) & (feature1_df[feature1] <= 20)].shape"
   ]
  },
  {
   "cell_type": "code",
   "execution_count": 16,
   "id": "93a14561",
   "metadata": {},
   "outputs": [
    {
     "data": {
      "text/plain": [
       "(151, 2)"
      ]
     },
     "execution_count": 16,
     "metadata": {},
     "output_type": "execute_result"
    }
   ],
   "source": [
    "feature1_df.loc[(feature1_df[feature1] > 20) & (feature1_df[feature1] <= 30)].shape"
   ]
  },
  {
   "cell_type": "code",
   "execution_count": 17,
   "id": "d1c4aeca",
   "metadata": {},
   "outputs": [
    {
     "data": {
      "text/plain": [
       "(318, 2)"
      ]
     },
     "execution_count": 17,
     "metadata": {},
     "output_type": "execute_result"
    }
   ],
   "source": [
    "feature1_df.loc[(feature1_df[feature1] > 30) & (feature1_df[feature1] <= 40)].shape"
   ]
  },
  {
   "cell_type": "code",
   "execution_count": 18,
   "id": "e0734ef8",
   "metadata": {},
   "outputs": [
    {
     "data": {
      "text/plain": [
       "(537, 2)"
      ]
     },
     "execution_count": 18,
     "metadata": {},
     "output_type": "execute_result"
    }
   ],
   "source": [
    "feature1_df.loc[(feature1_df[feature1] > 40) & (feature1_df[feature1] <= 50)].shape"
   ]
  },
  {
   "cell_type": "code",
   "execution_count": 19,
   "id": "2c2f5643",
   "metadata": {},
   "outputs": [
    {
     "data": {
      "text/plain": [
       "(624, 2)"
      ]
     },
     "execution_count": 19,
     "metadata": {},
     "output_type": "execute_result"
    }
   ],
   "source": [
    "feature1_df.loc[(feature1_df[feature1] > 50) & (feature1_df[feature1] <= 60)].shape"
   ]
  },
  {
   "cell_type": "code",
   "execution_count": 20,
   "id": "0f278412",
   "metadata": {},
   "outputs": [
    {
     "data": {
      "text/plain": [
       "(739, 2)"
      ]
     },
     "execution_count": 20,
     "metadata": {},
     "output_type": "execute_result"
    }
   ],
   "source": [
    "feature1_df.loc[(feature1_df[feature1] > 60) & (feature1_df[feature1] <= 70)].shape"
   ]
  },
  {
   "cell_type": "code",
   "execution_count": 21,
   "id": "f7e83705",
   "metadata": {},
   "outputs": [
    {
     "data": {
      "text/plain": [
       "(733, 2)"
      ]
     },
     "execution_count": 21,
     "metadata": {},
     "output_type": "execute_result"
    }
   ],
   "source": [
    "feature1_df.loc[(feature1_df[feature1] > 70) & (feature1_df[feature1] <= 80)].shape"
   ]
  },
  {
   "cell_type": "code",
   "execution_count": 22,
   "id": "51d15439",
   "metadata": {},
   "outputs": [
    {
     "data": {
      "text/plain": [
       "(490, 2)"
      ]
     },
     "execution_count": 22,
     "metadata": {},
     "output_type": "execute_result"
    }
   ],
   "source": [
    "feature1_df.loc[(feature1_df[feature1] > 80) & (feature1_df[feature1] <= 90)].shape"
   ]
  },
  {
   "cell_type": "code",
   "execution_count": 23,
   "id": "bcf0e5fe",
   "metadata": {},
   "outputs": [
    {
     "data": {
      "text/plain": [
       "(371, 2)"
      ]
     },
     "execution_count": 23,
     "metadata": {},
     "output_type": "execute_result"
    }
   ],
   "source": [
    "feature1_df.loc[(feature1_df[feature1] > 90) & (feature1_df[feature1] <= 100)].shape"
   ]
  },
  {
   "cell_type": "code",
   "execution_count": 24,
   "id": "2f259eed",
   "metadata": {},
   "outputs": [
    {
     "data": {
      "text/plain": [
       "(143, 2)"
      ]
     },
     "execution_count": 24,
     "metadata": {},
     "output_type": "execute_result"
    }
   ],
   "source": [
    "feature1_df.loc[(feature1_df[feature1] > 100)].shape"
   ]
  },
  {
   "cell_type": "code",
   "execution_count": 25,
   "id": "b6d2e973",
   "metadata": {},
   "outputs": [
    {
     "data": {
      "text/plain": [
       "6884"
      ]
     },
     "execution_count": 25,
     "metadata": {},
     "output_type": "execute_result"
    }
   ],
   "source": [
    "feature1_df.shape[0]"
   ]
  },
  {
   "cell_type": "markdown",
   "id": "821ce3a3",
   "metadata": {},
   "source": [
    "#### Based on the shape of each range, I decided to use the following ranges:\n",
    "#### {0, (0, 40], (40, 50], (50, 60], (60, 70], (70, 80], (80, 90], (90, $\\infty$)}"
   ]
  },
  {
   "cell_type": "code",
   "execution_count": 26,
   "id": "755e2f32",
   "metadata": {},
   "outputs": [],
   "source": [
    "feature1_population_distribution_0 = feature1_df.loc[feature1_df[feature1] == 0].shape[0]\n",
    "feature1_population_distribution_40 = feature1_df.loc[(feature1_df[feature1] > 0) & (feature1_df[feature1] <= 40)].shape[0]\n",
    "feature1_population_distribution_50 = feature1_df.loc[(feature1_df[feature1] > 40) & (feature1_df[feature1] <= 50)].shape[0]\n",
    "feature1_population_distribution_60 = feature1_df.loc[(feature1_df[feature1] > 50) & (feature1_df[feature1] <= 60)].shape[0]\n",
    "feature1_population_distribution_70 = feature1_df.loc[(feature1_df[feature1] > 60) & (feature1_df[feature1] <= 70)].shape[0]\n",
    "feature1_population_distribution_80 = feature1_df.loc[(feature1_df[feature1] > 70) & (feature1_df[feature1] <= 80)].shape[0]\n",
    "feature1_population_distribution_90 = feature1_df.loc[(feature1_df[feature1] > 80) & (feature1_df[feature1] <= 90)].shape[0]\n",
    "feature1_population_distribution_max = feature1_df.loc[(feature1_df[feature1] > 90)].shape[0]"
   ]
  },
  {
   "cell_type": "code",
   "execution_count": 27,
   "id": "c04e2e77",
   "metadata": {},
   "outputs": [
    {
     "data": {
      "text/plain": [
       "True"
      ]
     },
     "execution_count": 27,
     "metadata": {},
     "output_type": "execute_result"
    }
   ],
   "source": [
    "feature1_population_distribution_sum = feature1_population_distribution_0 + feature1_population_distribution_40 + feature1_population_distribution_50 + feature1_population_distribution_60 + feature1_population_distribution_70 + feature1_population_distribution_80 + feature1_population_distribution_90 + feature1_population_distribution_max\n",
    "\n",
    "# Check if sum of observations in each bin equals the original feature df.\n",
    "feature1_population_distribution_sum == feature1_df.shape[0]"
   ]
  },
  {
   "cell_type": "markdown",
   "id": "8162e90d",
   "metadata": {},
   "source": [
    "### Get the response percentage of each range."
   ]
  },
  {
   "cell_type": "code",
   "execution_count": 28,
   "id": "d4bc06c2",
   "metadata": {},
   "outputs": [
    {
     "data": {
      "text/plain": [
       "0.11583301993230538"
      ]
     },
     "execution_count": 28,
     "metadata": {},
     "output_type": "execute_result"
    }
   ],
   "source": [
    "feature1_bin0 = feature1_df.loc[feature1_df[feature1] == 0]\n",
    "feature1_response_rate_0 = sum(feature1_bin0.response) / len(feature1_bin0.response)\n",
    "feature1_response_rate_0"
   ]
  },
  {
   "cell_type": "code",
   "execution_count": 29,
   "id": "6373f564",
   "metadata": {},
   "outputs": [
    {
     "data": {
      "text/plain": [
       "0.02891156462585034"
      ]
     },
     "execution_count": 29,
     "metadata": {},
     "output_type": "execute_result"
    }
   ],
   "source": [
    "feature1_bin40 = feature1_df.loc[(feature1_df[feature1] > 0) & (feature1_df[feature1] <= 40)]\n",
    "feature1_response_rate_40 = sum(feature1_bin40.response) / len(feature1_bin40.response)\n",
    "feature1_response_rate_40"
   ]
  },
  {
   "cell_type": "code",
   "execution_count": 30,
   "id": "860cedf6",
   "metadata": {},
   "outputs": [
    {
     "data": {
      "text/plain": [
       "0.074487895716946"
      ]
     },
     "execution_count": 30,
     "metadata": {},
     "output_type": "execute_result"
    }
   ],
   "source": [
    "feature1_bin50 = feature1_df.loc[(feature1_df[feature1] > 40) & (feature1_df[feature1] <= 50)]\n",
    "feature1_response_rate_50 = sum(feature1_bin50.response) / len(feature1_bin50.response)\n",
    "feature1_response_rate_50"
   ]
  },
  {
   "cell_type": "code",
   "execution_count": 31,
   "id": "ede4185d",
   "metadata": {},
   "outputs": [
    {
     "data": {
      "text/plain": [
       "0.08012820512820513"
      ]
     },
     "execution_count": 31,
     "metadata": {},
     "output_type": "execute_result"
    }
   ],
   "source": [
    "feature1_bin60 = feature1_df.loc[(feature1_df[feature1] > 50) & (feature1_df[feature1] <= 60)]\n",
    "feature1_response_rate_60 = sum(feature1_bin60.response) / len(feature1_bin60.response)\n",
    "feature1_response_rate_60"
   ]
  },
  {
   "cell_type": "code",
   "execution_count": 32,
   "id": "fd4e5656",
   "metadata": {},
   "outputs": [
    {
     "data": {
      "text/plain": [
       "0.09472259810554803"
      ]
     },
     "execution_count": 32,
     "metadata": {},
     "output_type": "execute_result"
    }
   ],
   "source": [
    "feature1_bin70 = feature1_df.loc[(feature1_df[feature1] > 60) & (feature1_df[feature1] <= 70)]\n",
    "feature1_response_rate_70 = sum(feature1_bin70.response) / len(feature1_bin70.response)\n",
    "feature1_response_rate_70"
   ]
  },
  {
   "cell_type": "code",
   "execution_count": 33,
   "id": "25775a82",
   "metadata": {},
   "outputs": [
    {
     "data": {
      "text/plain": [
       "0.09686221009549795"
      ]
     },
     "execution_count": 33,
     "metadata": {},
     "output_type": "execute_result"
    }
   ],
   "source": [
    "feature1_bin80 = feature1_df.loc[(feature1_df[feature1] > 70) & (feature1_df[feature1] <= 80)]\n",
    "feature1_response_rate_80 = sum(feature1_bin80.response) / len(feature1_bin80.response)\n",
    "feature1_response_rate_80"
   ]
  },
  {
   "cell_type": "code",
   "execution_count": 34,
   "id": "8e4bc32c",
   "metadata": {},
   "outputs": [
    {
     "data": {
      "text/plain": [
       "0.09387755102040816"
      ]
     },
     "execution_count": 34,
     "metadata": {},
     "output_type": "execute_result"
    }
   ],
   "source": [
    "feature1_bin90 = feature1_df.loc[(feature1_df[feature1] > 80) & (feature1_df[feature1] <= 90)]\n",
    "feature1_response_rate_90 = sum(feature1_bin90.response) / len(feature1_bin90.response)\n",
    "feature1_response_rate_90"
   ]
  },
  {
   "cell_type": "code",
   "execution_count": 35,
   "id": "5849e975",
   "metadata": {},
   "outputs": [
    {
     "data": {
      "text/plain": [
       "0.08754863813229571"
      ]
     },
     "execution_count": 35,
     "metadata": {},
     "output_type": "execute_result"
    }
   ],
   "source": [
    "feature1_bin_max = feature1_df.loc[feature1_df[feature1] > 90]\n",
    "feature1_response_rate_max = sum(feature1_bin_max.response) / len(feature1_bin_max.response)\n",
    "feature1_response_rate_max"
   ]
  },
  {
   "cell_type": "code",
   "execution_count": 36,
   "id": "3f4c8f24",
   "metadata": {},
   "outputs": [],
   "source": [
    "feature1_response_rate = [feature1_response_rate_0*100, feature1_response_rate_40*100,\n",
    "                         feature1_response_rate_50*100, feature1_response_rate_60*100,\n",
    "                         feature1_response_rate_70*100, feature1_response_rate_80*100,\n",
    "                         feature1_response_rate_90*100, feature1_response_rate_max*100]\n",
    "\n",
    "feature1_population_distribution = [100*feature1_population_distribution_0/feature1_population_distribution_sum,\n",
    "                                    100*feature1_population_distribution_40/feature1_population_distribution_sum,\n",
    "                                    100*feature1_population_distribution_50/feature1_population_distribution_sum,\n",
    "                                    100*feature1_population_distribution_60/feature1_population_distribution_sum,\n",
    "                                    100*feature1_population_distribution_70/feature1_population_distribution_sum,\n",
    "                                    100*feature1_population_distribution_80/feature1_population_distribution_sum,\n",
    "                                    100*feature1_population_distribution_90/feature1_population_distribution_sum,\n",
    "                                    100*feature1_population_distribution_max/feature1_population_distribution_sum]\n",
    "\n",
    "feature1_bins = ['0', '1-40', '41-50', '51-60', '61-70', '71-80', '81-90', '>90']"
   ]
  },
  {
   "cell_type": "code",
   "execution_count": 37,
   "id": "15eda0be",
   "metadata": {},
   "outputs": [
    {
     "data": {
      "text/plain": [
       "[11.583301993230538,\n",
       " 2.891156462585034,\n",
       " 7.4487895716946,\n",
       " 8.012820512820513,\n",
       " 9.472259810554803,\n",
       " 9.686221009549795,\n",
       " 9.387755102040817,\n",
       " 8.754863813229571]"
      ]
     },
     "execution_count": 37,
     "metadata": {},
     "output_type": "execute_result"
    }
   ],
   "source": [
    "feature1_response_rate"
   ]
  },
  {
   "cell_type": "code",
   "execution_count": 38,
   "id": "d5ac4134",
   "metadata": {},
   "outputs": [
    {
     "data": {
      "image/png": "[encoded data removed]",
      "text/plain": [
       "<Figure size 720x576 with 2 Axes>"
      ]
     },
     "metadata": {
      "needs_background": "light"
     },
     "output_type": "display_data"
    }
   ],
   "source": [
    "fig, ax = plt.subplots(figsize=(10, 8))\n",
    "ax.bar(feature1_bins, feature1_population_distribution, color=\"blue\")\n",
    "ax.set_xlabel(\"Average amount spending for each shopping time in 2015\",fontsize=14)\n",
    "ax.set_ylabel(\"Population Distribution (%)\",color=\"blue\",fontsize=14)\n",
    "\n",
    "ax2=ax.twinx()\n",
    "ax2.plot(feature1_bins, feature1_response_rate,color=\"green\",marker=\"o\")\n",
    "ax2.set_ylabel(\"Response Rate (%)\",color=\"green\",fontsize=14)\n",
    "plt.ylim(0, 12)\n",
    "\n",
    "plt.show()"
   ]
  },
  {
   "cell_type": "markdown",
   "id": "d398cb8b",
   "metadata": {},
   "source": [
    "From this Partial dependency plot, we can see that promotion is more effective against people who has never shopped before, because it has the highest response rate, as well as the percentage of population.\n",
    "\n",
    "For other groups, the promotion seems to work least efficiently for people spent only a few dollars each time they shopped, while people are more interested in promotion when they spent about 60-90 dollars each time they shopped."
   ]
  },
  {
   "cell_type": "markdown",
   "id": "2d1870ba",
   "metadata": {},
   "source": [
    "## Feature 2"
   ]
  },
  {
   "cell_type": "code",
   "execution_count": 39,
   "id": "401637fb",
   "metadata": {},
   "outputs": [
    {
     "data": {
      "text/html": [
       "<div>\n",
       "<style scoped>\n",
       "    .dataframe tbody tr th:only-of-type {\n",
       "        vertical-align: middle;\n",
       "    }\n",
       "\n",
       "    .dataframe tbody tr th {\n",
       "        vertical-align: top;\n",
       "    }\n",
       "\n",
       "    .dataframe thead th {\n",
       "        text-align: right;\n",
       "    }\n",
       "</style>\n",
       "<table border=\"1\" class=\"dataframe\">\n",
       "  <thead>\n",
       "    <tr style=\"text-align: right;\">\n",
       "      <th></th>\n",
       "      <th>ann_txn_amt_max_2015</th>\n",
       "      <th>response</th>\n",
       "    </tr>\n",
       "  </thead>\n",
       "  <tbody>\n",
       "    <tr>\n",
       "      <th>count</th>\n",
       "      <td>6884.000000</td>\n",
       "      <td>6884.000000</td>\n",
       "    </tr>\n",
       "    <tr>\n",
       "      <th>mean</th>\n",
       "      <td>42.905142</td>\n",
       "      <td>0.093986</td>\n",
       "    </tr>\n",
       "    <tr>\n",
       "      <th>std</th>\n",
       "      <td>38.614034</td>\n",
       "      <td>0.291831</td>\n",
       "    </tr>\n",
       "    <tr>\n",
       "      <th>min</th>\n",
       "      <td>0.000000</td>\n",
       "      <td>0.000000</td>\n",
       "    </tr>\n",
       "    <tr>\n",
       "      <th>25%</th>\n",
       "      <td>0.000000</td>\n",
       "      <td>0.000000</td>\n",
       "    </tr>\n",
       "    <tr>\n",
       "      <th>50%</th>\n",
       "      <td>47.000000</td>\n",
       "      <td>0.000000</td>\n",
       "    </tr>\n",
       "    <tr>\n",
       "      <th>75%</th>\n",
       "      <td>78.000000</td>\n",
       "      <td>0.000000</td>\n",
       "    </tr>\n",
       "    <tr>\n",
       "      <th>max</th>\n",
       "      <td>105.000000</td>\n",
       "      <td>1.000000</td>\n",
       "    </tr>\n",
       "  </tbody>\n",
       "</table>\n",
       "</div>"
      ],
      "text/plain": [
       "       ann_txn_amt_max_2015     response\n",
       "count           6884.000000  6884.000000\n",
       "mean              42.905142     0.093986\n",
       "std               38.614034     0.291831\n",
       "min                0.000000     0.000000\n",
       "25%                0.000000     0.000000\n",
       "50%               47.000000     0.000000\n",
       "75%               78.000000     0.000000\n",
       "max              105.000000     1.000000"
      ]
     },
     "execution_count": 39,
     "metadata": {},
     "output_type": "execute_result"
    }
   ],
   "source": [
    "# Select the second top feature along with the response to form a dataframe.\n",
    "feature2_df = annual_features_outputs[[feature2, 'response']].sort_values(feature2, ascending = True)\n",
    "\n",
    "# Explore the statistics of the dataframe.\n",
    "feature2_df.describe()"
   ]
  },
  {
   "cell_type": "code",
   "execution_count": 40,
   "id": "44ab2708",
   "metadata": {},
   "outputs": [
    {
     "data": {
      "text/plain": [
       "Text(0.5, 1.0, 'Histogram of ann_txn_amt_max_2015 distribution')"
      ]
     },
     "execution_count": 40,
     "metadata": {},
     "output_type": "execute_result"
    },
    {
     "data": {
      "image/png": "[encoded data removed]",
      "text/plain": [
       "<Figure size 720x576 with 1 Axes>"
      ]
     },
     "metadata": {
      "needs_background": "light"
     },
     "output_type": "display_data"
    }
   ],
   "source": [
    "# Plot the histogram to see the distribution of this feature's values.\n",
    "fig = plt.figure(figsize = (10, 8))\n",
    "(n, bins, patches) = plt.hist(feature2_df.iloc[:, 0])\n",
    "plt.xlabel(feature2)\n",
    "plt.ylabel('Counts')\n",
    "plt.title('Histogram of ' + feature2 + ' distribution')"
   ]
  },
  {
   "cell_type": "code",
   "execution_count": 41,
   "id": "fd6699ea",
   "metadata": {},
   "outputs": [
    {
     "data": {
      "text/plain": [
       "array([  0. ,  10.5,  21. ,  31.5,  42. ,  52.5,  63. ,  73.5,  84. ,\n",
       "        94.5, 105. ])"
      ]
     },
     "execution_count": 41,
     "metadata": {},
     "output_type": "execute_result"
    }
   ],
   "source": [
    "bins"
   ]
  },
  {
   "cell_type": "markdown",
   "id": "52d93679",
   "metadata": {},
   "source": [
    "### Explore the count of each range (personal choice)."
   ]
  },
  {
   "cell_type": "code",
   "execution_count": 42,
   "id": "a26d9064",
   "metadata": {},
   "outputs": [
    {
     "data": {
      "text/plain": [
       "(2659, 2)"
      ]
     },
     "execution_count": 42,
     "metadata": {},
     "output_type": "execute_result"
    }
   ],
   "source": [
    "feature2_df.loc[feature2_df[feature2] == 0].shape"
   ]
  },
  {
   "cell_type": "code",
   "execution_count": 43,
   "id": "fbd84c14",
   "metadata": {},
   "outputs": [
    {
     "data": {
      "text/plain": [
       "(3, 2)"
      ]
     },
     "execution_count": 43,
     "metadata": {},
     "output_type": "execute_result"
    }
   ],
   "source": [
    "feature2_df.loc[(feature2_df[feature2] > 0) & (feature2_df[feature2] <= 10)].shape"
   ]
  },
  {
   "cell_type": "code",
   "execution_count": 44,
   "id": "1a8bda06",
   "metadata": {},
   "outputs": [
    {
     "data": {
      "text/plain": [
       "(113, 2)"
      ]
     },
     "execution_count": 44,
     "metadata": {},
     "output_type": "execute_result"
    }
   ],
   "source": [
    "feature2_df.loc[(feature2_df[feature2] > 10) & (feature2_df[feature2] <= 20)].shape"
   ]
  },
  {
   "cell_type": "code",
   "execution_count": 45,
   "id": "c4bd55db",
   "metadata": {},
   "outputs": [
    {
     "data": {
      "text/plain": [
       "(124, 2)"
      ]
     },
     "execution_count": 45,
     "metadata": {},
     "output_type": "execute_result"
    }
   ],
   "source": [
    "feature2_df.loc[(feature2_df[feature2] > 20) & (feature2_df[feature2] <= 30)].shape"
   ]
  },
  {
   "cell_type": "code",
   "execution_count": 46,
   "id": "782c259e",
   "metadata": {},
   "outputs": [
    {
     "data": {
      "text/plain": [
       "(288, 2)"
      ]
     },
     "execution_count": 46,
     "metadata": {},
     "output_type": "execute_result"
    }
   ],
   "source": [
    "feature2_df.loc[(feature2_df[feature2] > 30) & (feature2_df[feature2] <= 40)].shape"
   ]
  },
  {
   "cell_type": "code",
   "execution_count": 47,
   "id": "461985af",
   "metadata": {},
   "outputs": [
    {
     "data": {
      "text/plain": [
       "(435, 2)"
      ]
     },
     "execution_count": 47,
     "metadata": {},
     "output_type": "execute_result"
    }
   ],
   "source": [
    "feature2_df.loc[(feature2_df[feature2] > 40) & (feature2_df[feature2] <= 50)].shape"
   ]
  },
  {
   "cell_type": "code",
   "execution_count": 48,
   "id": "c1a2960e",
   "metadata": {},
   "outputs": [
    {
     "data": {
      "text/plain": [
       "(485, 2)"
      ]
     },
     "execution_count": 48,
     "metadata": {},
     "output_type": "execute_result"
    }
   ],
   "source": [
    "feature2_df.loc[(feature2_df[feature2] > 50) & (feature2_df[feature2] <= 60)].shape"
   ]
  },
  {
   "cell_type": "code",
   "execution_count": 49,
   "id": "a65f0977",
   "metadata": {},
   "outputs": [
    {
     "data": {
      "text/plain": [
       "(554, 2)"
      ]
     },
     "execution_count": 49,
     "metadata": {},
     "output_type": "execute_result"
    }
   ],
   "source": [
    "feature2_df.loc[(feature2_df[feature2] > 60) & (feature2_df[feature2] <= 70)].shape"
   ]
  },
  {
   "cell_type": "code",
   "execution_count": 50,
   "id": "66f73dff",
   "metadata": {},
   "outputs": [
    {
     "data": {
      "text/plain": [
       "(635, 2)"
      ]
     },
     "execution_count": 50,
     "metadata": {},
     "output_type": "execute_result"
    }
   ],
   "source": [
    "feature2_df.loc[(feature2_df[feature2] > 70) & (feature2_df[feature2] <= 80)].shape"
   ]
  },
  {
   "cell_type": "code",
   "execution_count": 51,
   "id": "366e9e1f",
   "metadata": {},
   "outputs": [
    {
     "data": {
      "text/plain": [
       "(563, 2)"
      ]
     },
     "execution_count": 51,
     "metadata": {},
     "output_type": "execute_result"
    }
   ],
   "source": [
    "feature2_df.loc[(feature2_df[feature2] > 80) & (feature2_df[feature2] <= 90)].shape"
   ]
  },
  {
   "cell_type": "code",
   "execution_count": 52,
   "id": "763940e8",
   "metadata": {},
   "outputs": [
    {
     "data": {
      "text/plain": [
       "(666, 2)"
      ]
     },
     "execution_count": 52,
     "metadata": {},
     "output_type": "execute_result"
    }
   ],
   "source": [
    "feature2_df.loc[(feature2_df[feature2] > 90) & (feature2_df[feature2] <= 100)].shape"
   ]
  },
  {
   "cell_type": "code",
   "execution_count": 53,
   "id": "57bb61ef",
   "metadata": {},
   "outputs": [
    {
     "data": {
      "text/plain": [
       "(359, 2)"
      ]
     },
     "execution_count": 53,
     "metadata": {},
     "output_type": "execute_result"
    }
   ],
   "source": [
    "feature2_df.loc[feature2_df[feature2] > 100].shape"
   ]
  },
  {
   "cell_type": "markdown",
   "id": "cc095ec4",
   "metadata": {},
   "source": [
    "#### Based on the shape of each range, I decided to use the following ranges:\n",
    "#### {0, (0, 40], (40, 50], (50, 60], (60, 70], (70, 80], (80, 90], (90, 100], (100, $\\infty$)}"
   ]
  },
  {
   "cell_type": "code",
   "execution_count": 54,
   "id": "41e437da",
   "metadata": {},
   "outputs": [],
   "source": [
    "feature2_population_distribution_0 = feature2_df.loc[feature2_df[feature2] == 0].shape[0]\n",
    "feature2_population_distribution_40 = feature2_df.loc[(feature2_df[feature2] > 0) & (feature2_df[feature2] <= 40)].shape[0]\n",
    "feature2_population_distribution_50 = feature2_df.loc[(feature2_df[feature2] > 40) & (feature2_df[feature2] <= 50)].shape[0]\n",
    "feature2_population_distribution_60 = feature2_df.loc[(feature2_df[feature2] > 50) & (feature2_df[feature2] <= 60)].shape[0]\n",
    "feature2_population_distribution_70 = feature2_df.loc[(feature2_df[feature2] > 60) & (feature2_df[feature2] <= 70)].shape[0]\n",
    "feature2_population_distribution_80 = feature2_df.loc[(feature2_df[feature2] > 70) & (feature2_df[feature2] <= 80)].shape[0]\n",
    "feature2_population_distribution_90 = feature2_df.loc[(feature2_df[feature2] > 80) & (feature2_df[feature2] <= 90)].shape[0]\n",
    "feature2_population_distribution_100 = feature2_df.loc[(feature2_df[feature2] > 90) & (feature2_df[feature2] <= 100)].shape[0]\n",
    "feature2_population_distribution_max = feature2_df.loc[(feature2_df[feature2] > 100)].shape[0]"
   ]
  },
  {
   "cell_type": "code",
   "execution_count": 55,
   "id": "f5300a65",
   "metadata": {},
   "outputs": [
    {
     "data": {
      "text/plain": [
       "True"
      ]
     },
     "execution_count": 55,
     "metadata": {},
     "output_type": "execute_result"
    }
   ],
   "source": [
    "feature2_population_distribution_sum = feature2_population_distribution_0 + feature2_population_distribution_40 + feature2_population_distribution_50 + feature2_population_distribution_60 + feature2_population_distribution_70 + feature2_population_distribution_80 + feature2_population_distribution_90 + feature2_population_distribution_100 + feature2_population_distribution_max\n",
    "\n",
    "# Check if sum of observations in each bin equals the original feature df.\n",
    "feature2_population_distribution_sum == feature2_df.shape[0]"
   ]
  },
  {
   "cell_type": "markdown",
   "id": "6c136a80",
   "metadata": {},
   "source": [
    "### Get the response percentage of each range."
   ]
  },
  {
   "cell_type": "code",
   "execution_count": 56,
   "id": "60b38ea1",
   "metadata": {},
   "outputs": [
    {
     "data": {
      "text/plain": [
       "0.11583301993230538"
      ]
     },
     "execution_count": 56,
     "metadata": {},
     "output_type": "execute_result"
    }
   ],
   "source": [
    "feature2_bin0 = feature2_df.loc[feature2_df[feature2] == 0]\n",
    "feature2_response_rate_0 = sum(feature2_bin0.response) / len(feature2_bin0.response)\n",
    "feature2_response_rate_0"
   ]
  },
  {
   "cell_type": "code",
   "execution_count": 57,
   "id": "faa6e2e2",
   "metadata": {},
   "outputs": [
    {
     "data": {
      "text/plain": [
       "0.030303030303030304"
      ]
     },
     "execution_count": 57,
     "metadata": {},
     "output_type": "execute_result"
    }
   ],
   "source": [
    "feature2_bin40 = feature2_df.loc[(feature2_df[feature2] > 0) & (feature2_df[feature2] <= 40)]\n",
    "feature2_response_rate_40 = sum(feature2_bin40.response) / len(feature2_bin40.response)\n",
    "feature2_response_rate_40"
   ]
  },
  {
   "cell_type": "code",
   "execution_count": 58,
   "id": "e3c5afd8",
   "metadata": {},
   "outputs": [
    {
     "data": {
      "text/plain": [
       "0.07126436781609195"
      ]
     },
     "execution_count": 58,
     "metadata": {},
     "output_type": "execute_result"
    }
   ],
   "source": [
    "feature2_bin50 = feature2_df.loc[(feature2_df[feature2] > 40) & (feature2_df[feature2] <= 50)]\n",
    "feature2_response_rate_50 = sum(feature2_bin50.response) / len(feature2_bin50.response)\n",
    "feature2_response_rate_50"
   ]
  },
  {
   "cell_type": "code",
   "execution_count": 59,
   "id": "eb78236a",
   "metadata": {},
   "outputs": [
    {
     "data": {
      "text/plain": [
       "0.07835051546391752"
      ]
     },
     "execution_count": 59,
     "metadata": {},
     "output_type": "execute_result"
    }
   ],
   "source": [
    "feature2_bin60 = feature2_df.loc[(feature2_df[feature2] > 50) & (feature2_df[feature2] <= 60)]\n",
    "feature2_response_rate_60 = sum(feature2_bin60.response) / len(feature2_bin60.response)\n",
    "feature2_response_rate_60"
   ]
  },
  {
   "cell_type": "code",
   "execution_count": 60,
   "id": "29db2d99",
   "metadata": {},
   "outputs": [
    {
     "data": {
      "text/plain": [
       "0.07942238267148015"
      ]
     },
     "execution_count": 60,
     "metadata": {},
     "output_type": "execute_result"
    }
   ],
   "source": [
    "feature2_bin70 = feature2_df.loc[(feature2_df[feature2] > 60) & (feature2_df[feature2] <= 70)]\n",
    "feature2_response_rate_70 = sum(feature2_bin70.response) / len(feature2_bin70.response)\n",
    "feature2_response_rate_70"
   ]
  },
  {
   "cell_type": "code",
   "execution_count": 61,
   "id": "17ec922f",
   "metadata": {},
   "outputs": [
    {
     "data": {
      "text/plain": [
       "0.09133858267716535"
      ]
     },
     "execution_count": 61,
     "metadata": {},
     "output_type": "execute_result"
    }
   ],
   "source": [
    "feature2_bin80 = feature2_df.loc[(feature2_df[feature2] > 70) & (feature2_df[feature2] <= 80)]\n",
    "feature2_response_rate_80 = sum(feature2_bin80.response) / len(feature2_bin80.response)\n",
    "feature2_response_rate_80"
   ]
  },
  {
   "cell_type": "code",
   "execution_count": 62,
   "id": "9ac60887",
   "metadata": {},
   "outputs": [
    {
     "data": {
      "text/plain": [
       "0.08703374777975133"
      ]
     },
     "execution_count": 62,
     "metadata": {},
     "output_type": "execute_result"
    }
   ],
   "source": [
    "feature2_bin90 = feature2_df.loc[(feature2_df[feature2] > 80) & (feature2_df[feature2] <= 90)]\n",
    "feature2_response_rate_90 = sum(feature2_bin90.response) / len(feature2_bin90.response)\n",
    "feature2_response_rate_90"
   ]
  },
  {
   "cell_type": "code",
   "execution_count": 63,
   "id": "30a82e58",
   "metadata": {},
   "outputs": [
    {
     "data": {
      "text/plain": [
       "0.10510510510510511"
      ]
     },
     "execution_count": 63,
     "metadata": {},
     "output_type": "execute_result"
    }
   ],
   "source": [
    "feature2_bin100 = feature2_df.loc[(feature2_df[feature2] > 90) & (feature2_df[feature2] <= 100)]\n",
    "feature2_response_rate_100 = sum(feature2_bin100.response) / len(feature2_bin100.response)\n",
    "feature2_response_rate_100"
   ]
  },
  {
   "cell_type": "code",
   "execution_count": 64,
   "id": "71dd9d0b",
   "metadata": {},
   "outputs": [
    {
     "data": {
      "text/plain": [
       "0.09192200557103064"
      ]
     },
     "execution_count": 64,
     "metadata": {},
     "output_type": "execute_result"
    }
   ],
   "source": [
    "feature2_bin_max = feature2_df.loc[feature2_df[feature2] > 100]\n",
    "feature2_response_rate_max = sum(feature2_bin_max.response) / len(feature2_bin_max.response)\n",
    "feature2_response_rate_max"
   ]
  },
  {
   "cell_type": "code",
   "execution_count": 65,
   "id": "08d186a1",
   "metadata": {},
   "outputs": [],
   "source": [
    "feature2_response_rate = [feature2_response_rate_0*100, feature2_response_rate_40*100,\n",
    "                          feature2_response_rate_50*100, feature2_response_rate_60*100,\n",
    "                          feature2_response_rate_70*100, feature2_response_rate_80*100,\n",
    "                          feature2_response_rate_90*100, feature2_response_rate_100*100,\n",
    "                          feature2_response_rate_max*100]\n",
    "\n",
    "feature2_population_distribution = [100*feature2_population_distribution_0/feature2_population_distribution_sum,\n",
    "                                    100*feature2_population_distribution_40/feature2_population_distribution_sum,\n",
    "                                    100*feature2_population_distribution_50/feature2_population_distribution_sum,\n",
    "                                    100*feature2_population_distribution_60/feature2_population_distribution_sum,\n",
    "                                    100*feature2_population_distribution_70/feature2_population_distribution_sum,\n",
    "                                    100*feature2_population_distribution_80/feature2_population_distribution_sum,\n",
    "                                    100*feature2_population_distribution_90/feature2_population_distribution_sum,\n",
    "                                    100*feature2_population_distribution_100/feature2_population_distribution_sum,\n",
    "                                    100*feature2_population_distribution_max/feature2_population_distribution_sum]\n",
    "\n",
    "feature2_bins = ['0', '1-40', '41-50', '51-60', '61-70', '71-80', '81-90', '91-100', '>100']"
   ]
  },
  {
   "cell_type": "code",
   "execution_count": 66,
   "id": "362fa2e1",
   "metadata": {},
   "outputs": [
    {
     "data": {
      "text/plain": [
       "[11.583301993230538,\n",
       " 3.0303030303030303,\n",
       " 7.126436781609195,\n",
       " 7.835051546391752,\n",
       " 7.9422382671480145,\n",
       " 9.133858267716535,\n",
       " 8.703374777975133,\n",
       " 10.51051051051051,\n",
       " 9.192200557103064]"
      ]
     },
     "execution_count": 66,
     "metadata": {},
     "output_type": "execute_result"
    }
   ],
   "source": [
    "feature2_response_rate"
   ]
  },
  {
   "cell_type": "code",
   "execution_count": 67,
   "id": "9848d8bd",
   "metadata": {},
   "outputs": [
    {
     "data": {
      "image/png": "[encoded data removed]",
      "text/plain": [
       "<Figure size 720x576 with 2 Axes>"
      ]
     },
     "metadata": {
      "needs_background": "light"
     },
     "output_type": "display_data"
    }
   ],
   "source": [
    "fig, ax = plt.subplots(figsize=(10, 8))\n",
    "ax.bar(feature2_bins, feature2_population_distribution, color=\"blue\")\n",
    "ax.set_xlabel(\"Maximum amount spending for each shopping time in 2015\",fontsize=14)\n",
    "ax.set_ylabel(\"Population Distribution (%)\",color=\"blue\",fontsize=14)\n",
    "\n",
    "ax2=ax.twinx()\n",
    "ax2.plot(feature2_bins, feature2_response_rate,color=\"green\",marker=\"o\")\n",
    "ax2.set_ylabel(\"Response Rate (%)\",color=\"green\",fontsize=14)\n",
    "plt.ylim(0, 12)\n",
    "\n",
    "plt.title('Partial dependency plot of ' + feature2, fontsize = 15)\n",
    "plt.show()"
   ]
  },
  {
   "cell_type": "markdown",
   "id": "3fc7cbb2",
   "metadata": {},
   "source": [
    "From this Partial dependency plot, we can see that promotion is more effective against people who has never shopped before, because it has the highest response rate, as well as the percentage of population.\n",
    "\n",
    "For other groups, the promotion seems to work least efficiently for people spent less than 40 dollars each time they shopped, while the more money people spent, the more they are interested in promotion."
   ]
  },
  {
   "cell_type": "markdown",
   "id": "b9a3f0e2",
   "metadata": {},
   "source": [
    "## Feature 3"
   ]
  },
  {
   "cell_type": "code",
   "execution_count": 68,
   "id": "7fdcd2ea",
   "metadata": {},
   "outputs": [
    {
     "data": {
      "text/html": [
       "<div>\n",
       "<style scoped>\n",
       "    .dataframe tbody tr th:only-of-type {\n",
       "        vertical-align: middle;\n",
       "    }\n",
       "\n",
       "    .dataframe tbody tr th {\n",
       "        vertical-align: top;\n",
       "    }\n",
       "\n",
       "    .dataframe thead th {\n",
       "        text-align: right;\n",
       "    }\n",
       "</style>\n",
       "<table border=\"1\" class=\"dataframe\">\n",
       "  <thead>\n",
       "    <tr style=\"text-align: right;\">\n",
       "      <th></th>\n",
       "      <th>ann_txn_amt_sum_2014</th>\n",
       "      <th>response</th>\n",
       "    </tr>\n",
       "  </thead>\n",
       "  <tbody>\n",
       "    <tr>\n",
       "      <th>count</th>\n",
       "      <td>6884.000000</td>\n",
       "      <td>6884.000000</td>\n",
       "    </tr>\n",
       "    <tr>\n",
       "      <th>mean</th>\n",
       "      <td>304.257408</td>\n",
       "      <td>0.093986</td>\n",
       "    </tr>\n",
       "    <tr>\n",
       "      <th>std</th>\n",
       "      <td>173.032792</td>\n",
       "      <td>0.291831</td>\n",
       "    </tr>\n",
       "    <tr>\n",
       "      <th>min</th>\n",
       "      <td>0.000000</td>\n",
       "      <td>0.000000</td>\n",
       "    </tr>\n",
       "    <tr>\n",
       "      <th>25%</th>\n",
       "      <td>171.000000</td>\n",
       "      <td>0.000000</td>\n",
       "    </tr>\n",
       "    <tr>\n",
       "      <th>50%</th>\n",
       "      <td>286.000000</td>\n",
       "      <td>0.000000</td>\n",
       "    </tr>\n",
       "    <tr>\n",
       "      <th>75%</th>\n",
       "      <td>416.000000</td>\n",
       "      <td>0.000000</td>\n",
       "    </tr>\n",
       "    <tr>\n",
       "      <th>max</th>\n",
       "      <td>1029.000000</td>\n",
       "      <td>1.000000</td>\n",
       "    </tr>\n",
       "  </tbody>\n",
       "</table>\n",
       "</div>"
      ],
      "text/plain": [
       "       ann_txn_amt_sum_2014     response\n",
       "count           6884.000000  6884.000000\n",
       "mean             304.257408     0.093986\n",
       "std              173.032792     0.291831\n",
       "min                0.000000     0.000000\n",
       "25%              171.000000     0.000000\n",
       "50%              286.000000     0.000000\n",
       "75%              416.000000     0.000000\n",
       "max             1029.000000     1.000000"
      ]
     },
     "execution_count": 68,
     "metadata": {},
     "output_type": "execute_result"
    }
   ],
   "source": [
    "# Select the third top feature along with the response to form a dataframe.\n",
    "feature3_df = annual_features_outputs[[feature3, 'response']].sort_values(feature3, ascending = True)\n",
    "\n",
    "# Explore the statistics of the dataframe.\n",
    "feature3_df.describe()"
   ]
  },
  {
   "cell_type": "code",
   "execution_count": 69,
   "id": "4c0b7c4e",
   "metadata": {},
   "outputs": [
    {
     "data": {
      "text/plain": [
       "Text(0.5, 1.0, 'Histogram of ann_txn_amt_sum_2014 distribution')"
      ]
     },
     "execution_count": 69,
     "metadata": {},
     "output_type": "execute_result"
    },
    {
     "data": {
      "image/png": "[encoded data removed]",
      "text/plain": [
       "<Figure size 720x576 with 1 Axes>"
      ]
     },
     "metadata": {
      "needs_background": "light"
     },
     "output_type": "display_data"
    }
   ],
   "source": [
    "# Plot the histogram to see the distribution of this feature's values.\n",
    "fig = plt.figure(figsize = (10, 8))\n",
    "(n, bins, patches) = plt.hist(feature3_df.iloc[:, 0], bins = 15)\n",
    "plt.xlabel(feature3)\n",
    "plt.ylabel('Counts')\n",
    "plt.title('Histogram of ' + feature3 + ' distribution')"
   ]
  },
  {
   "cell_type": "markdown",
   "id": "a7ae5d56",
   "metadata": {},
   "source": [
    "### Explore the count of each range."
   ]
  },
  {
   "cell_type": "code",
   "execution_count": 70,
   "id": "31d74d72",
   "metadata": {},
   "outputs": [
    {
     "data": {
      "text/plain": [
       "array([   0. ,   68.6,  137.2,  205.8,  274.4,  343. ,  411.6,  480.2,\n",
       "        548.8,  617.4,  686. ,  754.6,  823.2,  891.8,  960.4, 1029. ])"
      ]
     },
     "execution_count": 70,
     "metadata": {},
     "output_type": "execute_result"
    }
   ],
   "source": [
    "# Get the coverage of each bin.\n",
    "bins"
   ]
  },
  {
   "cell_type": "code",
   "execution_count": 71,
   "id": "76286d09",
   "metadata": {},
   "outputs": [
    {
     "data": {
      "text/plain": [
       "array([ 411.,  827., 1012., 1018.,  983.,  866.,  660.,  486.,  289.,\n",
       "        157.,   89.,   43.,   24.,   13.,    6.])"
      ]
     },
     "execution_count": 71,
     "metadata": {},
     "output_type": "execute_result"
    }
   ],
   "source": [
    "# Get the counts of each bin.\n",
    "n"
   ]
  },
  {
   "cell_type": "markdown",
   "id": "86023cc2",
   "metadata": {},
   "source": [
    "#### Based on the coverage and count of each range, I decided to use the following ranges:\n",
    "#### {[0, 70], (70, 140], (140, 210], (210, 280], (280, 350], (350, 420], (420, 490], (490, 560], (560, $\\infty$)}"
   ]
  },
  {
   "cell_type": "code",
   "execution_count": 72,
   "id": "01d0002c",
   "metadata": {},
   "outputs": [],
   "source": [
    "feature3_population_distribution_70 = feature3_df.loc[(feature3_df[feature3] >= 0) & (feature3_df[feature3] <= 70)].shape[0]\n",
    "feature3_population_distribution_140 = feature3_df.loc[(feature3_df[feature3] > 70) & (feature3_df[feature3] <= 140)].shape[0]\n",
    "feature3_population_distribution_210 = feature3_df.loc[(feature3_df[feature3] > 140) & (feature3_df[feature3] <= 210)].shape[0]\n",
    "feature3_population_distribution_280 = feature3_df.loc[(feature3_df[feature3] > 210) & (feature3_df[feature3] <= 280)].shape[0]\n",
    "feature3_population_distribution_350 = feature3_df.loc[(feature3_df[feature3] > 280) & (feature3_df[feature3] <= 350)].shape[0]\n",
    "feature3_population_distribution_420 = feature3_df.loc[(feature3_df[feature3] > 350) & (feature3_df[feature3] <= 420)].shape[0]\n",
    "feature3_population_distribution_490 = feature3_df.loc[(feature3_df[feature3] > 420) & (feature3_df[feature3] <= 490)].shape[0]\n",
    "feature3_population_distribution_560 = feature3_df.loc[(feature3_df[feature3] > 490) & (feature3_df[feature3] <= 560)].shape[0]\n",
    "feature3_population_distribution_max = feature3_df.loc[(feature3_df[feature3] > 560)].shape[0]"
   ]
  },
  {
   "cell_type": "code",
   "execution_count": 73,
   "id": "70a54c32",
   "metadata": {},
   "outputs": [
    {
     "data": {
      "text/plain": [
       "True"
      ]
     },
     "execution_count": 73,
     "metadata": {},
     "output_type": "execute_result"
    }
   ],
   "source": [
    "feature3_population_distribution_sum = feature3_population_distribution_70 + feature3_population_distribution_140 + feature3_population_distribution_210 + feature3_population_distribution_280 + feature3_population_distribution_350 + feature3_population_distribution_420 + feature3_population_distribution_490 + feature3_population_distribution_560 + feature3_population_distribution_max\n",
    "\n",
    "# Check if sum of observations in each bin equals the original feature df.\n",
    "feature3_population_distribution_sum == feature3_df.shape[0]"
   ]
  },
  {
   "cell_type": "markdown",
   "id": "2e64e6c6",
   "metadata": {},
   "source": [
    "### Get the response percentage of each range."
   ]
  },
  {
   "cell_type": "code",
   "execution_count": 74,
   "id": "83912511",
   "metadata": {},
   "outputs": [
    {
     "data": {
      "text/plain": [
       "0.011428571428571429"
      ]
     },
     "execution_count": 74,
     "metadata": {},
     "output_type": "execute_result"
    }
   ],
   "source": [
    "feature3_bin70 = feature3_df.loc[(feature3_df[feature3] > 0) & (feature3_df[feature3] <= 70)]\n",
    "feature3_response_rate_70 = sum(feature3_bin70.response) / len(feature3_bin70.response)\n",
    "feature3_response_rate_70"
   ]
  },
  {
   "cell_type": "code",
   "execution_count": 75,
   "id": "813dc259",
   "metadata": {},
   "outputs": [
    {
     "data": {
      "text/plain": [
       "0.017523364485981307"
      ]
     },
     "execution_count": 75,
     "metadata": {},
     "output_type": "execute_result"
    }
   ],
   "source": [
    "feature3_bin140 = feature3_df.loc[(feature3_df[feature3] > 70) & (feature3_df[feature3] <= 140)]\n",
    "feature3_response_rate_140 = sum(feature3_bin140.response) / len(feature3_bin140.response)\n",
    "feature3_response_rate_140"
   ]
  },
  {
   "cell_type": "code",
   "execution_count": 76,
   "id": "6d253a3b",
   "metadata": {},
   "outputs": [
    {
     "data": {
      "text/plain": [
       "0.030947775628626693"
      ]
     },
     "execution_count": 76,
     "metadata": {},
     "output_type": "execute_result"
    }
   ],
   "source": [
    "feature3_bin210 = feature3_df.loc[(feature3_df[feature3] > 140) & (feature3_df[feature3] <= 210)]\n",
    "feature3_response_rate_210 = sum(feature3_bin210.response) / len(feature3_bin210.response)\n",
    "feature3_response_rate_210"
   ]
  },
  {
   "cell_type": "code",
   "execution_count": 77,
   "id": "2d99e76a",
   "metadata": {},
   "outputs": [
    {
     "data": {
      "text/plain": [
       "0.047619047619047616"
      ]
     },
     "execution_count": 77,
     "metadata": {},
     "output_type": "execute_result"
    }
   ],
   "source": [
    "feature3_bin280 = feature3_df.loc[(feature3_df[feature3] > 210) & (feature3_df[feature3] <= 280)]\n",
    "feature3_response_rate_280 = sum(feature3_bin280.response) / len(feature3_bin280.response)\n",
    "feature3_response_rate_280"
   ]
  },
  {
   "cell_type": "code",
   "execution_count": 78,
   "id": "33a6b5d3",
   "metadata": {},
   "outputs": [
    {
     "data": {
      "text/plain": [
       "0.1023391812865497"
      ]
     },
     "execution_count": 78,
     "metadata": {},
     "output_type": "execute_result"
    }
   ],
   "source": [
    "feature3_bin350 = feature3_df.loc[(feature3_df[feature3] > 280) & (feature3_df[feature3] <= 350)]\n",
    "feature3_response_rate_350 = sum(feature3_bin350.response) / len(feature3_bin350.response)\n",
    "feature3_response_rate_350"
   ]
  },
  {
   "cell_type": "code",
   "execution_count": 79,
   "id": "30f3b2ff",
   "metadata": {},
   "outputs": [
    {
     "data": {
      "text/plain": [
       "0.1383495145631068"
      ]
     },
     "execution_count": 79,
     "metadata": {},
     "output_type": "execute_result"
    }
   ],
   "source": [
    "feature3_bin420 = feature3_df.loc[(feature3_df[feature3] > 350) & (feature3_df[feature3] <= 420)]\n",
    "feature3_response_rate_420 = sum(feature3_bin420.response) / len(feature3_bin420.response)\n",
    "feature3_response_rate_420"
   ]
  },
  {
   "cell_type": "code",
   "execution_count": 80,
   "id": "2584ca12",
   "metadata": {},
   "outputs": [
    {
     "data": {
      "text/plain": [
       "0.15454545454545454"
      ]
     },
     "execution_count": 80,
     "metadata": {},
     "output_type": "execute_result"
    }
   ],
   "source": [
    "feature3_bin490 = feature3_df.loc[(feature3_df[feature3] > 420) & (feature3_df[feature3] <= 490)]\n",
    "feature3_response_rate_490 = sum(feature3_bin490.response) / len(feature3_bin490.response)\n",
    "feature3_response_rate_490"
   ]
  },
  {
   "cell_type": "code",
   "execution_count": 81,
   "id": "57135cbd",
   "metadata": {},
   "outputs": [
    {
     "data": {
      "text/plain": [
       "0.208067940552017"
      ]
     },
     "execution_count": 81,
     "metadata": {},
     "output_type": "execute_result"
    }
   ],
   "source": [
    "feature3_bin560 = feature3_df.loc[(feature3_df[feature3] > 490) & (feature3_df[feature3] <= 560)]\n",
    "feature3_response_rate_560 = sum(feature3_bin560.response) / len(feature3_bin560.response)\n",
    "feature3_response_rate_560"
   ]
  },
  {
   "cell_type": "code",
   "execution_count": 82,
   "id": "770b0cc5",
   "metadata": {},
   "outputs": [
    {
     "data": {
      "text/plain": [
       "0.2323049001814882"
      ]
     },
     "execution_count": 82,
     "metadata": {},
     "output_type": "execute_result"
    }
   ],
   "source": [
    "feature3_bin_max = feature3_df.loc[feature3_df[feature3] > 560]\n",
    "feature3_response_rate_max = sum(feature3_bin_max.response) / len(feature3_bin_max.response)\n",
    "feature3_response_rate_max"
   ]
  },
  {
   "cell_type": "code",
   "execution_count": 83,
   "id": "8c5e06dc",
   "metadata": {},
   "outputs": [],
   "source": [
    "feature3_response_rate = [feature3_response_rate_70*100, feature3_response_rate_140*100,\n",
    "                          feature3_response_rate_210*100, feature3_response_rate_280*100,\n",
    "                          feature3_response_rate_350*100, feature3_response_rate_420*100,\n",
    "                          feature3_response_rate_490*100, feature3_response_rate_560*100,\n",
    "                          feature3_response_rate_max*100]\n",
    "\n",
    "feature3_population_distribution = [100*feature3_population_distribution_70/feature3_population_distribution_sum,\n",
    "                                    100*feature3_population_distribution_140/feature3_population_distribution_sum,\n",
    "                                    100*feature3_population_distribution_210/feature3_population_distribution_sum,\n",
    "                                    100*feature3_population_distribution_280/feature3_population_distribution_sum,\n",
    "                                    100*feature3_population_distribution_350/feature3_population_distribution_sum,\n",
    "                                    100*feature3_population_distribution_420/feature3_population_distribution_sum,\n",
    "                                    100*feature3_population_distribution_490/feature3_population_distribution_sum,\n",
    "                                    100*feature3_population_distribution_560/feature3_population_distribution_sum,\n",
    "                                    100*feature3_population_distribution_max/feature3_population_distribution_sum]\n",
    "\n",
    "feature3_bins = ['<70', '70-140', '140-210', '210-280', '280-350', '350-420', '420-490', '490-560', '>560']"
   ]
  },
  {
   "cell_type": "code",
   "execution_count": 84,
   "id": "62f3195a",
   "metadata": {},
   "outputs": [
    {
     "data": {
      "image/png": "[encoded data removed]",
      "text/plain": [
       "<Figure size 720x576 with 2 Axes>"
      ]
     },
     "metadata": {
      "needs_background": "light"
     },
     "output_type": "display_data"
    }
   ],
   "source": [
    "fig, ax = plt.subplots(figsize=(10, 8))\n",
    "ax.bar(feature3_bins, feature3_population_distribution, color=\"blue\")\n",
    "ax.set_xlabel(\"Total amount spending in 2014\", fontsize=14)\n",
    "ax.set_ylabel(\"Population Distribution (%)\",color=\"blue\", fontsize=14)\n",
    "\n",
    "ax2=ax.twinx()\n",
    "ax2.plot(feature3_bins, feature3_response_rate,color=\"green\", marker=\"o\")\n",
    "ax2.set_ylabel(\"Response Rate (%)\",color=\"green\", fontsize=14)\n",
    "\n",
    "plt.title('Partial dependency plot of ' + feature3, fontsize = 15)\n",
    "plt.show()"
   ]
  },
  {
   "cell_type": "markdown",
   "id": "9a90c714",
   "metadata": {},
   "source": [
    "From this Partial dependency plot, we can see very obviously that the trend is increasing. The more money they spent on shopping during the year of 2014, the more responsive they are against promotion."
   ]
  },
  {
   "cell_type": "markdown",
   "id": "d6aac687",
   "metadata": {},
   "source": [
    "## Feature 4"
   ]
  },
  {
   "cell_type": "code",
   "execution_count": 85,
   "id": "c2450be5",
   "metadata": {},
   "outputs": [
    {
     "data": {
      "text/html": [
       "<div>\n",
       "<style scoped>\n",
       "    .dataframe tbody tr th:only-of-type {\n",
       "        vertical-align: middle;\n",
       "    }\n",
       "\n",
       "    .dataframe tbody tr th {\n",
       "        vertical-align: top;\n",
       "    }\n",
       "\n",
       "    .dataframe thead th {\n",
       "        text-align: right;\n",
       "    }\n",
       "</style>\n",
       "<table border=\"1\" class=\"dataframe\">\n",
       "  <thead>\n",
       "    <tr style=\"text-align: right;\">\n",
       "      <th></th>\n",
       "      <th>ann_txn_cnt_2015</th>\n",
       "      <th>response</th>\n",
       "    </tr>\n",
       "  </thead>\n",
       "  <tbody>\n",
       "    <tr>\n",
       "      <th>count</th>\n",
       "      <td>6884.000000</td>\n",
       "      <td>6884.000000</td>\n",
       "    </tr>\n",
       "    <tr>\n",
       "      <th>mean</th>\n",
       "      <td>0.969059</td>\n",
       "      <td>0.093986</td>\n",
       "    </tr>\n",
       "    <tr>\n",
       "      <th>std</th>\n",
       "      <td>1.012375</td>\n",
       "      <td>0.291831</td>\n",
       "    </tr>\n",
       "    <tr>\n",
       "      <th>min</th>\n",
       "      <td>0.000000</td>\n",
       "      <td>0.000000</td>\n",
       "    </tr>\n",
       "    <tr>\n",
       "      <th>25%</th>\n",
       "      <td>0.000000</td>\n",
       "      <td>0.000000</td>\n",
       "    </tr>\n",
       "    <tr>\n",
       "      <th>50%</th>\n",
       "      <td>1.000000</td>\n",
       "      <td>0.000000</td>\n",
       "    </tr>\n",
       "    <tr>\n",
       "      <th>75%</th>\n",
       "      <td>1.000000</td>\n",
       "      <td>0.000000</td>\n",
       "    </tr>\n",
       "    <tr>\n",
       "      <th>max</th>\n",
       "      <td>7.000000</td>\n",
       "      <td>1.000000</td>\n",
       "    </tr>\n",
       "  </tbody>\n",
       "</table>\n",
       "</div>"
      ],
      "text/plain": [
       "       ann_txn_cnt_2015     response\n",
       "count       6884.000000  6884.000000\n",
       "mean           0.969059     0.093986\n",
       "std            1.012375     0.291831\n",
       "min            0.000000     0.000000\n",
       "25%            0.000000     0.000000\n",
       "50%            1.000000     0.000000\n",
       "75%            1.000000     0.000000\n",
       "max            7.000000     1.000000"
      ]
     },
     "execution_count": 85,
     "metadata": {},
     "output_type": "execute_result"
    }
   ],
   "source": [
    "# Select the fourth top feature along with the response to form a dataframe.\n",
    "feature4_df = annual_features_outputs[[feature4, 'response']].sort_values(feature4, ascending = True)\n",
    "\n",
    "# Explore the statistics of the dataframe.\n",
    "feature4_df.describe()"
   ]
  },
  {
   "cell_type": "code",
   "execution_count": 86,
   "id": "6ab95146",
   "metadata": {},
   "outputs": [
    {
     "data": {
      "text/plain": [
       "Text(0.5, 1.0, 'Histogram of ann_txn_cnt_2015 distribution')"
      ]
     },
     "execution_count": 86,
     "metadata": {},
     "output_type": "execute_result"
    },
    {
     "data": {
      "image/png": "[encoded data removed]",
      "text/plain": [
       "<Figure size 720x576 with 1 Axes>"
      ]
     },
     "metadata": {
      "needs_background": "light"
     },
     "output_type": "display_data"
    }
   ],
   "source": [
    "# Plot the histogram to see the distribution of this feature's values.\n",
    "fig = plt.figure(figsize = (10, 8))\n",
    "(n, bins, patches) = plt.hist(feature4_df.iloc[:, 0], bins = 7)\n",
    "plt.xlabel(feature4)\n",
    "plt.ylabel('Counts')\n",
    "plt.title('Histogram of ' + feature4 + ' distribution')"
   ]
  },
  {
   "cell_type": "markdown",
   "id": "2b7d9318",
   "metadata": {},
   "source": [
    "### Explore the count of each range."
   ]
  },
  {
   "cell_type": "code",
   "execution_count": 87,
   "id": "d575be9c",
   "metadata": {},
   "outputs": [
    {
     "data": {
      "text/plain": [
       "array([0., 1., 2., 3., 4., 5., 6., 7.])"
      ]
     },
     "execution_count": 87,
     "metadata": {},
     "output_type": "execute_result"
    }
   ],
   "source": [
    "# Get the coverage of each bin.\n",
    "bins"
   ]
  },
  {
   "cell_type": "code",
   "execution_count": 88,
   "id": "3d01fe81",
   "metadata": {},
   "outputs": [
    {
     "data": {
      "text/plain": [
       "array([2659., 2509., 1180.,  385.,  117.,   27.,    7.])"
      ]
     },
     "execution_count": 88,
     "metadata": {},
     "output_type": "execute_result"
    }
   ],
   "source": [
    "# Get the counts of each bin.\n",
    "n"
   ]
  },
  {
   "cell_type": "markdown",
   "id": "1004afa7",
   "metadata": {},
   "source": [
    "#### Based on the coverage and count of each range, I decided to use the following ranges:\n",
    "#### {[0, 1), [1, 2), [2, 3), [3, 4), [4, 5), [5, 6), [6, 7), [7]}"
   ]
  },
  {
   "cell_type": "code",
   "execution_count": 89,
   "id": "9ecd4481",
   "metadata": {},
   "outputs": [],
   "source": [
    "feature4_population_distribution_0 = feature4_df.loc[feature4_df[feature4] == 0].shape[0]\n",
    "feature4_population_distribution_1 = feature4_df.loc[feature4_df[feature4] == 1].shape[0]\n",
    "feature4_population_distribution_2 = feature4_df.loc[feature4_df[feature4] == 2].shape[0]\n",
    "feature4_population_distribution_3 = feature4_df.loc[feature4_df[feature4] == 3].shape[0]\n",
    "feature4_population_distribution_4 = feature4_df.loc[feature4_df[feature4] == 4].shape[0]\n",
    "feature4_population_distribution_5 = feature4_df.loc[feature4_df[feature4] == 5].shape[0]\n",
    "feature4_population_distribution_6 = feature4_df.loc[feature4_df[feature4] == 6].shape[0]\n",
    "feature4_population_distribution_7 = feature4_df.loc[feature4_df[feature4] == 7].shape[0]"
   ]
  },
  {
   "cell_type": "code",
   "execution_count": 90,
   "id": "ba8ea19a",
   "metadata": {},
   "outputs": [
    {
     "data": {
      "text/plain": [
       "True"
      ]
     },
     "execution_count": 90,
     "metadata": {},
     "output_type": "execute_result"
    }
   ],
   "source": [
    "feature4_population_distribution_sum = feature4_population_distribution_0 + feature4_population_distribution_1 + feature4_population_distribution_2 + feature4_population_distribution_3 + feature4_population_distribution_4 + feature4_population_distribution_5 + feature4_population_distribution_6 + feature4_population_distribution_7\n",
    "\n",
    "# Check if sum of observations in each bin equals the original feature df.\n",
    "feature4_population_distribution_sum == feature4_df.shape[0]"
   ]
  },
  {
   "cell_type": "markdown",
   "id": "06717983",
   "metadata": {},
   "source": [
    "### Get the response percentage of each range."
   ]
  },
  {
   "cell_type": "code",
   "execution_count": 91,
   "id": "6a95b3e4",
   "metadata": {},
   "outputs": [
    {
     "data": {
      "text/plain": [
       "0.11583301993230538"
      ]
     },
     "execution_count": 91,
     "metadata": {},
     "output_type": "execute_result"
    }
   ],
   "source": [
    "feature4_bin0 = feature4_df.loc[feature4_df[feature4] == 0]\n",
    "feature4_response_rate_0 = sum(feature4_bin0.response) / len(feature4_bin0.response)\n",
    "feature4_response_rate_0"
   ]
  },
  {
   "cell_type": "code",
   "execution_count": 92,
   "id": "f1563e9d",
   "metadata": {},
   "outputs": [
    {
     "data": {
      "text/plain": [
       "0.07493025109605421"
      ]
     },
     "execution_count": 92,
     "metadata": {},
     "output_type": "execute_result"
    }
   ],
   "source": [
    "feature4_bin1 = feature4_df.loc[feature4_df[feature4] == 1]\n",
    "feature4_response_rate_1 = sum(feature4_bin1.response) / len(feature4_bin1.response)\n",
    "feature4_response_rate_1"
   ]
  },
  {
   "cell_type": "code",
   "execution_count": 93,
   "id": "f3050000",
   "metadata": {},
   "outputs": [
    {
     "data": {
      "text/plain": [
       "0.07796610169491526"
      ]
     },
     "execution_count": 93,
     "metadata": {},
     "output_type": "execute_result"
    }
   ],
   "source": [
    "feature4_bin2 = feature4_df.loc[feature4_df[feature4] == 2]\n",
    "feature4_response_rate_2 = sum(feature4_bin2.response) / len(feature4_bin2.response)\n",
    "feature4_response_rate_2"
   ]
  },
  {
   "cell_type": "code",
   "execution_count": 94,
   "id": "c4069353",
   "metadata": {},
   "outputs": [
    {
     "data": {
      "text/plain": [
       "0.11688311688311688"
      ]
     },
     "execution_count": 94,
     "metadata": {},
     "output_type": "execute_result"
    }
   ],
   "source": [
    "feature4_bin3 = feature4_df.loc[feature4_df[feature4] == 3]\n",
    "feature4_response_rate_3 = sum(feature4_bin3.response) / len(feature4_bin3.response)\n",
    "feature4_response_rate_3"
   ]
  },
  {
   "cell_type": "code",
   "execution_count": 95,
   "id": "f1806a94",
   "metadata": {},
   "outputs": [
    {
     "data": {
      "text/plain": [
       "0.09271523178807947"
      ]
     },
     "execution_count": 95,
     "metadata": {},
     "output_type": "execute_result"
    }
   ],
   "source": [
    "feature4_bin4 = feature4_df.loc[feature4_df[feature4] >= 4]\n",
    "feature4_response_rate_4 = sum(feature4_bin4.response) / len(feature4_bin4.response)\n",
    "feature4_response_rate_4"
   ]
  },
  {
   "cell_type": "code",
   "execution_count": 96,
   "id": "2d20fed1",
   "metadata": {},
   "outputs": [],
   "source": [
    "feature4_response_rate = [feature4_response_rate_0*100, feature4_response_rate_1*100,\n",
    "                          feature4_response_rate_2*100, feature4_response_rate_3*100,\n",
    "                          feature4_response_rate_4*100]\n",
    "\n",
    "feature4_population_distribution = [100*feature4_population_distribution_0/feature4_population_distribution_sum,\n",
    "                                    100*feature4_population_distribution_1/feature4_population_distribution_sum,\n",
    "                                    100*feature4_population_distribution_2/feature4_population_distribution_sum,\n",
    "                                    100*feature4_population_distribution_3/feature4_population_distribution_sum,\n",
    "                                    100*feature4_population_distribution_4/feature4_population_distribution_sum]\n",
    "\n",
    "feature4_bins = ['0', '1', '2', '3', '4']"
   ]
  },
  {
   "cell_type": "code",
   "execution_count": 97,
   "id": "b7314e99",
   "metadata": {},
   "outputs": [
    {
     "data": {
      "image/png": "[encoded data removed]",
      "text/plain": [
       "<Figure size 720x576 with 2 Axes>"
      ]
     },
     "metadata": {
      "needs_background": "light"
     },
     "output_type": "display_data"
    }
   ],
   "source": [
    "fig, ax = plt.subplots(figsize=(10, 8))\n",
    "ax.bar(feature4_bins, feature4_population_distribution, color=\"blue\")\n",
    "ax.set_xlabel(\"Number of time shopping in 2014\", fontsize=14)\n",
    "ax.set_ylabel(\"Population Distribution (%)\",color=\"blue\", fontsize=14)\n",
    "\n",
    "ax2=ax.twinx()\n",
    "ax2.plot(feature4_bins, feature4_response_rate,color=\"green\", marker=\"o\")\n",
    "ax2.set_ylabel(\"Response Rate (%)\",color=\"green\", fontsize=14)\n",
    "plt.ylim(0, 12)\n",
    "\n",
    "plt.title('Partial dependency plot of ' + feature4, fontsize = 15)\n",
    "plt.show()"
   ]
  },
  {
   "cell_type": "markdown",
   "id": "b09f9586",
   "metadata": {},
   "source": [
    "From this Partial dependency plot, we can see that promotion is more effective against people who has never shopped before, because it has the second highest response rate (given they have the highest proportion of population, and the response rate is just a little bit less than the group of people shopped 3 times in 2014, we can say that promotion is very effective against people who has never shopped in 2014).\n",
    "\n",
    "For other groups, the promotion seems to work least efficiently, the response rates fluctuate, so we cannot conclude much (especially with less population proportion)."
   ]
  },
  {
   "cell_type": "markdown",
   "id": "41920e7d",
   "metadata": {},
   "source": [
    "## Feature 5"
   ]
  },
  {
   "cell_type": "code",
   "execution_count": 98,
   "id": "cd1a04f1",
   "metadata": {},
   "outputs": [
    {
     "data": {
      "text/html": [
       "<div>\n",
       "<style scoped>\n",
       "    .dataframe tbody tr th:only-of-type {\n",
       "        vertical-align: middle;\n",
       "    }\n",
       "\n",
       "    .dataframe tbody tr th {\n",
       "        vertical-align: top;\n",
       "    }\n",
       "\n",
       "    .dataframe thead th {\n",
       "        text-align: right;\n",
       "    }\n",
       "</style>\n",
       "<table border=\"1\" class=\"dataframe\">\n",
       "  <thead>\n",
       "    <tr style=\"text-align: right;\">\n",
       "      <th></th>\n",
       "      <th>ann_txn_amt_sum_2015</th>\n",
       "      <th>response</th>\n",
       "    </tr>\n",
       "  </thead>\n",
       "  <tbody>\n",
       "    <tr>\n",
       "      <th>count</th>\n",
       "      <td>6884.000000</td>\n",
       "      <td>6884.000000</td>\n",
       "    </tr>\n",
       "    <tr>\n",
       "      <th>mean</th>\n",
       "      <td>63.215427</td>\n",
       "      <td>0.093986</td>\n",
       "    </tr>\n",
       "    <tr>\n",
       "      <th>std</th>\n",
       "      <td>72.146687</td>\n",
       "      <td>0.291831</td>\n",
       "    </tr>\n",
       "    <tr>\n",
       "      <th>min</th>\n",
       "      <td>0.000000</td>\n",
       "      <td>0.000000</td>\n",
       "    </tr>\n",
       "    <tr>\n",
       "      <th>25%</th>\n",
       "      <td>0.000000</td>\n",
       "      <td>0.000000</td>\n",
       "    </tr>\n",
       "    <tr>\n",
       "      <th>50%</th>\n",
       "      <td>49.000000</td>\n",
       "      <td>0.000000</td>\n",
       "    </tr>\n",
       "    <tr>\n",
       "      <th>75%</th>\n",
       "      <td>97.000000</td>\n",
       "      <td>0.000000</td>\n",
       "    </tr>\n",
       "    <tr>\n",
       "      <th>max</th>\n",
       "      <td>538.000000</td>\n",
       "      <td>1.000000</td>\n",
       "    </tr>\n",
       "  </tbody>\n",
       "</table>\n",
       "</div>"
      ],
      "text/plain": [
       "       ann_txn_amt_sum_2015     response\n",
       "count           6884.000000  6884.000000\n",
       "mean              63.215427     0.093986\n",
       "std               72.146687     0.291831\n",
       "min                0.000000     0.000000\n",
       "25%                0.000000     0.000000\n",
       "50%               49.000000     0.000000\n",
       "75%               97.000000     0.000000\n",
       "max              538.000000     1.000000"
      ]
     },
     "execution_count": 98,
     "metadata": {},
     "output_type": "execute_result"
    }
   ],
   "source": [
    "# Select the fifth top feature along with the response to form a dataframe.\n",
    "feature5_df = annual_features_outputs[[feature5, 'response']].sort_values(feature5, ascending = True)\n",
    "\n",
    "# Explore the statistics of the dataframe.\n",
    "feature5_df.describe()"
   ]
  },
  {
   "cell_type": "code",
   "execution_count": 99,
   "id": "2ec2dd1a",
   "metadata": {},
   "outputs": [
    {
     "data": {
      "text/plain": [
       "Text(0.5, 1.0, 'Histogram of ann_txn_amt_sum_2015 distribution')"
      ]
     },
     "execution_count": 99,
     "metadata": {},
     "output_type": "execute_result"
    },
    {
     "data": {
      "image/png": "[encoded data removed]",
      "text/plain": [
       "<Figure size 720x576 with 1 Axes>"
      ]
     },
     "metadata": {
      "needs_background": "light"
     },
     "output_type": "display_data"
    }
   ],
   "source": [
    "# Plot the histogram to see the distribution of this feature's values.\n",
    "fig = plt.figure(figsize = (10, 8))\n",
    "(n, bins, patches) = plt.hist(feature5_df.iloc[:, 0])\n",
    "plt.xlabel(feature5)\n",
    "plt.ylabel('Counts')\n",
    "plt.title('Histogram of ' + feature5 + ' distribution')"
   ]
  },
  {
   "cell_type": "markdown",
   "id": "940ecf7b",
   "metadata": {},
   "source": [
    "### Explore the count of each range."
   ]
  },
  {
   "cell_type": "code",
   "execution_count": 100,
   "id": "55fce8d2",
   "metadata": {},
   "outputs": [
    {
     "data": {
      "text/plain": [
       "array([  0. ,  53.8, 107.6, 161.4, 215.2, 269. , 322.8, 376.6, 430.4,\n",
       "       484.2, 538. ])"
      ]
     },
     "execution_count": 100,
     "metadata": {},
     "output_type": "execute_result"
    }
   ],
   "source": [
    "# Get the coverage of each bin.\n",
    "bins"
   ]
  },
  {
   "cell_type": "code",
   "execution_count": 101,
   "id": "31733db6",
   "metadata": {},
   "outputs": [
    {
     "data": {
      "text/plain": [
       "array([3.612e+03, 1.869e+03, 6.890e+02, 4.150e+02, 1.800e+02, 8.000e+01,\n",
       "       2.500e+01, 1.100e+01, 1.000e+00, 2.000e+00])"
      ]
     },
     "execution_count": 101,
     "metadata": {},
     "output_type": "execute_result"
    }
   ],
   "source": [
    "# Get the counts of each bin.\n",
    "n"
   ]
  },
  {
   "cell_type": "markdown",
   "id": "f64acfef",
   "metadata": {},
   "source": [
    "#### Based on the coverage and count of each range, I decided to use the following ranges:\n",
    "#### {[0, 50), [50, 100), [100, 150), [150, 200), [200, 250), [250, $\\infty$)}"
   ]
  },
  {
   "cell_type": "code",
   "execution_count": 119,
   "id": "98dec107",
   "metadata": {},
   "outputs": [],
   "source": [
    "feature5_population_distribution_50 = feature5_df.loc[(feature5_df[feature5] >= 0) & (feature5_df[feature5] <= 50)].shape[0]\n",
    "feature5_population_distribution_100 = feature5_df.loc[(feature5_df[feature5] > 50) & (feature5_df[feature5] <= 100)].shape[0]\n",
    "feature5_population_distribution_150 = feature5_df.loc[(feature5_df[feature5] > 100) & (feature5_df[feature5] <= 150)].shape[0]\n",
    "feature5_population_distribution_200 = feature5_df.loc[(feature5_df[feature5] > 150) & (feature5_df[feature5] <= 200)].shape[0]\n",
    "feature5_population_distribution_250 = feature5_df.loc[(feature5_df[feature5] > 200) & (feature5_df[feature5] <= 250)].shape[0]\n",
    "feature5_population_distribution_max = feature5_df.loc[(feature5_df[feature5] > 250)].shape[0]"
   ]
  },
  {
   "cell_type": "code",
   "execution_count": 120,
   "id": "0c420611",
   "metadata": {},
   "outputs": [
    {
     "data": {
      "text/plain": [
       "True"
      ]
     },
     "execution_count": 120,
     "metadata": {},
     "output_type": "execute_result"
    }
   ],
   "source": [
    "feature5_population_distribution_sum = feature5_population_distribution_50 + feature5_population_distribution_100 + feature5_population_distribution_150 + feature5_population_distribution_200 + feature5_population_distribution_250 + feature5_population_distribution_max\n",
    "\n",
    "# Check if sum of observations in each bin equals the original feature df.\n",
    "feature5_population_distribution_sum == feature5_df.shape[0]"
   ]
  },
  {
   "cell_type": "markdown",
   "id": "e8a93663",
   "metadata": {},
   "source": [
    "### Get the response percentage of each range."
   ]
  },
  {
   "cell_type": "code",
   "execution_count": 104,
   "id": "e1b1f846",
   "metadata": {},
   "outputs": [
    {
     "data": {
      "text/plain": [
       "0.10105623751070511"
      ]
     },
     "execution_count": 104,
     "metadata": {},
     "output_type": "execute_result"
    }
   ],
   "source": [
    "feature5_bin50 = feature5_df.loc[(feature5_df[feature5] >= 0) & (feature5_df[feature5] <= 50)]\n",
    "feature5_response_rate_50 = sum(feature5_bin50.response) / len(feature5_bin50.response)\n",
    "feature5_response_rate_50"
   ]
  },
  {
   "cell_type": "code",
   "execution_count": 105,
   "id": "e37d4605",
   "metadata": {},
   "outputs": [
    {
     "data": {
      "text/plain": [
       "0.08169014084507042"
      ]
     },
     "execution_count": 105,
     "metadata": {},
     "output_type": "execute_result"
    }
   ],
   "source": [
    "feature5_bin100 = feature5_df.loc[(feature5_df[feature5] > 50) & (feature5_df[feature5] <= 100)]\n",
    "feature5_response_rate_100 = sum(feature5_bin100.response) / len(feature5_bin100.response)\n",
    "feature5_response_rate_100"
   ]
  },
  {
   "cell_type": "code",
   "execution_count": 106,
   "id": "4e69c76e",
   "metadata": {},
   "outputs": [
    {
     "data": {
      "text/plain": [
       "0.07301173402868318"
      ]
     },
     "execution_count": 106,
     "metadata": {},
     "output_type": "execute_result"
    }
   ],
   "source": [
    "feature5_bin150 = feature5_df.loc[(feature5_df[feature5] > 100) & (feature5_df[feature5] <= 150)]\n",
    "feature5_response_rate_150 = sum(feature5_bin150.response) / len(feature5_bin150.response)\n",
    "feature5_response_rate_150"
   ]
  },
  {
   "cell_type": "code",
   "execution_count": 107,
   "id": "268f3689",
   "metadata": {},
   "outputs": [
    {
     "data": {
      "text/plain": [
       "0.10021321961620469"
      ]
     },
     "execution_count": 107,
     "metadata": {},
     "output_type": "execute_result"
    }
   ],
   "source": [
    "feature5_bin200 = feature5_df.loc[(feature5_df[feature5] > 150) & (feature5_df[feature5] <= 200)]\n",
    "feature5_response_rate_200 = sum(feature5_bin200.response) / len(feature5_bin200.response)\n",
    "feature5_response_rate_200"
   ]
  },
  {
   "cell_type": "code",
   "execution_count": 108,
   "id": "423f3d96",
   "metadata": {},
   "outputs": [
    {
     "data": {
      "text/plain": [
       "0.1111111111111111"
      ]
     },
     "execution_count": 108,
     "metadata": {},
     "output_type": "execute_result"
    }
   ],
   "source": [
    "feature5_bin250 = feature5_df.loc[(feature5_df[feature5] > 200) & (feature5_df[feature5] <= 250)]\n",
    "feature5_response_rate_250 = sum(feature5_bin250.response) / len(feature5_bin250.response)\n",
    "feature5_response_rate_250"
   ]
  },
  {
   "cell_type": "code",
   "execution_count": 113,
   "id": "f9ba5225",
   "metadata": {},
   "outputs": [
    {
     "data": {
      "text/plain": [
       "0.13372093023255813"
      ]
     },
     "execution_count": 113,
     "metadata": {},
     "output_type": "execute_result"
    }
   ],
   "source": [
    "feature5_bin_max = feature5_df.loc[feature5_df[feature5] > 250]\n",
    "feature5_response_rate_max = sum(feature5_bin_max.response) / len(feature5_bin_max.response)\n",
    "feature5_response_rate_max"
   ]
  },
  {
   "cell_type": "code",
   "execution_count": 114,
   "id": "cd1a0ad7",
   "metadata": {},
   "outputs": [],
   "source": [
    "feature5_response_rate = [feature5_response_rate_50*100, feature5_response_rate_100*100,\n",
    "                          feature5_response_rate_150*100, feature5_response_rate_200*100,\n",
    "                          feature5_response_rate_250*100, feature5_response_rate_max*100]\n",
    "\n",
    "feature5_population_distribution = [100*feature5_population_distribution_50/feature5_population_distribution_sum,\n",
    "                                    100*feature5_population_distribution_100/feature5_population_distribution_sum,\n",
    "                                    100*feature5_population_distribution_150/feature5_population_distribution_sum,\n",
    "                                    100*feature5_population_distribution_200/feature5_population_distribution_sum,\n",
    "                                    100*feature5_population_distribution_250/feature5_population_distribution_sum,\n",
    "                                    100*feature5_population_distribution_max/feature5_population_distribution_sum]\n",
    "\n",
    "feature5_bins = ['0-50', '50-100', '100-150', '150-200', '200-250', '>250']"
   ]
  },
  {
   "cell_type": "code",
   "execution_count": 115,
   "id": "0eaf49d4",
   "metadata": {},
   "outputs": [
    {
     "data": {
      "image/png": "[encoded data removed]",
      "text/plain": [
       "<Figure size 720x576 with 2 Axes>"
      ]
     },
     "metadata": {
      "needs_background": "light"
     },
     "output_type": "display_data"
    }
   ],
   "source": [
    "fig, ax = plt.subplots(figsize=(10, 8))\n",
    "ax.bar(feature5_bins, feature5_population_distribution, color=\"blue\")\n",
    "ax.set_xlabel(\"Total amount spending in 2015\", fontsize=14)\n",
    "ax.set_ylabel(\"Population Distribution (%)\",color=\"blue\", fontsize=14)\n",
    "\n",
    "ax2=ax.twinx()\n",
    "ax2.plot(feature5_bins, feature5_response_rate,color=\"green\", marker=\"o\")\n",
    "ax2.set_ylabel(\"Response Rate (%)\",color=\"green\", fontsize=14)\n",
    "\n",
    "plt.title('Partial dependency plot of ' + feature5, fontsize = 15)\n",
    "plt.show()"
   ]
  },
  {
   "cell_type": "markdown",
   "id": "c1bf73b7",
   "metadata": {},
   "source": [
    "From this Partial dependency plot, we can see that the trend first decreases, then increases. \n",
    "\n",
    "For people spent more than 100 dollars in 2015, the more money they spent on shopping during the year of 2015, the more responsive they are against promotion."
   ]
  },
  {
   "cell_type": "code",
   "execution_count": null,
   "id": "72b0dc78",
   "metadata": {},
   "outputs": [],
   "source": []
  }
 ],
 "metadata": {
  "kernelspec": {
   "display_name": "Python 3 (ipykernel)",
   "language": "python",
   "name": "python3"
  },
  "language_info": {
   "codemirror_mode": {
    "name": "ipython",
    "version": 3
   },
   "file_extension": ".py",
   "mimetype": "text/x-python",
   "name": "python",
   "nbconvert_exporter": "python",
   "pygments_lexer": "ipython3",
   "version": "3.8.2"
  }
 },
 "nbformat": 4,
 "nbformat_minor": 5
}
